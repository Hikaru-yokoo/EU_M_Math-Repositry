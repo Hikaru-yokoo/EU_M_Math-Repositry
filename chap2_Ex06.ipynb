{
  "nbformat": 4,
  "nbformat_minor": 0,
  "metadata": {
    "colab": {
      "name": "chap2_Ex06.ipynb",
      "provenance": [],
      "authorship_tag": "ABX9TyNFxGWQQyi6O0ZXqkcUNUS/",
      "include_colab_link": true
    },
    "kernelspec": {
      "name": "python3",
      "display_name": "Python 3"
    },
    "language_info": {
      "name": "python"
    }
  },
  "cells": [
    {
      "cell_type": "markdown",
      "metadata": {
        "id": "view-in-github",
        "colab_type": "text"
      },
      "source": [
        "<a href=\"https://colab.research.google.com/github/Hikaru-yokoo/EU_M_Math-Repositry/blob/main/chap2_Ex06.ipynb\" target=\"_parent\"><img src=\"https://colab.research.google.com/assets/colab-badge.svg\" alt=\"Open In Colab\"/></a>"
      ]
    },
    {
      "cell_type": "code",
      "execution_count": 1,
      "metadata": {
        "colab": {
          "base_uri": "https://localhost:8080/"
        },
        "id": "1J9-ujxYSM0J",
        "outputId": "8d847d09-0373-47fa-dee2-0246f53ab398"
      },
      "outputs": [
        {
          "output_type": "stream",
          "name": "stdout",
          "text": [
            "-0.45339765151640365\n"
          ]
        }
      ],
      "source": [
        "def my_function(x):\n",
        "    return (x**3 + 2*x + 1)\n",
        "\n",
        "from scipy.optimize import newton\n",
        "\n",
        "print(newton(my_function,0))\n"
      ]
    }
  ]
}