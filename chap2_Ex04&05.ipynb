{
  "nbformat": 4,
  "nbformat_minor": 0,
  "metadata": {
    "colab": {
      "name": "chap2_Ex04&05.ipynd",
      "provenance": [],
      "authorship_tag": "ABX9TyPdYwEI0/OTctAfxhHI8bNR",
      "include_colab_link": true
    },
    "kernelspec": {
      "name": "python3",
      "display_name": "Python 3"
    },
    "language_info": {
      "name": "python"
    }
  },
  "cells": [
    {
      "cell_type": "markdown",
      "metadata": {
        "id": "view-in-github",
        "colab_type": "text"
      },
      "source": [
        "<a href=\"https://colab.research.google.com/github/Hikaru-yokoo/EU_M_Math-Repositry/blob/main/chap2_Ex04%2605.ipynb\" target=\"_parent\"><img src=\"https://colab.research.google.com/assets/colab-badge.svg\" alt=\"Open In Colab\"/></a>"
      ]
    },
    {
      "cell_type": "code",
      "execution_count": 8,
      "metadata": {
        "colab": {
          "base_uri": "https://localhost:8080/"
        },
        "id": "lWfC6xyuPn_7",
        "outputId": "e37ace57-f6b5-4920-b4c7-f0f78f10f1cf"
      },
      "outputs": [
        {
          "output_type": "stream",
          "name": "stdout",
          "text": [
            "-12.0\n",
            "逆行列 [[-0.33333333  0.08333333  0.41666667]\n",
            " [-0.33333333  0.58333333 -0.08333333]\n",
            " [ 0.66666667 -0.41666667 -0.08333333]]\n",
            "固有値 [ 6.        +0.j -1.41421356+0.j  1.41421356+0.j]\n",
            "固有ベクトル [[-0.57735027 -0.72236645  0.16041816]\n",
            " [-0.57735027 -0.14290228 -0.81090869]\n",
            " [-0.57735027  0.67658381  0.56275492]]\n"
          ]
        }
      ],
      "source": [
        "#行列式を求めよ2-4\n",
        "import numpy as np\n",
        "import scipy.linalg as linalg\n",
        "matrix = np.array([[1,2,3],[1,3,2],[3,1,2]])\n",
        "print(linalg.det(matrix))\n",
        "\n",
        "#2-5逆行列、固有値と固有ベクトルを求める。\n",
        "print(\"逆行列\",linalg.inv(matrix))\n",
        "eig_value,eig_vector = linalg.eig(matrix)\n",
        "print(\"固有値\",eig_value)\n",
        "print(\"固有ベクトル\",eig_vector)\n",
        "\n"
      ]
    }
  ]
}