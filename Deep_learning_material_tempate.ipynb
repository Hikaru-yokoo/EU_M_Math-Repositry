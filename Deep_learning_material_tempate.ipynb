{
  "cells": [
    {
      "cell_type": "markdown",
      "metadata": {
        "id": "view-in-github",
        "colab_type": "text"
      },
      "source": [
        "<a href=\"https://colab.research.google.com/github/Hikaru-yokoo/EU_M_Math-Repositry/blob/main/Deep_learning_material_tempate.ipynb\" target=\"_parent\"><img src=\"https://colab.research.google.com/assets/colab-badge.svg\" alt=\"Open In Colab\"/></a>"
      ]
    },
    {
      "cell_type": "markdown",
      "source": [
        "# DNN 教材"
      ],
      "metadata": {
        "id": "xaHVTzJ4G9Qb"
      }
    },
    {
      "cell_type": "markdown",
      "metadata": {
        "id": "JDFBVx0PvTy2"
      },
      "source": [
        "### Perceptron"
      ]
    },
    {
      "cell_type": "markdown",
      "metadata": {
        "id": "W6OWATZWvTy3"
      },
      "source": [
        "実際にPerceptronを使って、Irisの花の種類がIris Setosaかそれ以外かを判別するモデルを作る。\n",
        "\n",
        "__Dataset__ \n",
        "\n",
        "50個のIrisの花に関するレコードがある。がく片の幅、がく片の長さ、花弁の長さ、花弁の幅、Irisの花の種類が一つのレコードに含まれている。花の種類は、Iris Setosa、Iris VersicolourとIris Virginicaのどれか。\n",
        "\n",
        "__Goal__\n",
        "\n",
        "Irisのがく片と花弁の特徴を基に、IrisがIris Setosaかそれ以外かを判別するモデルを作る"
      ]
    },
    {
      "cell_type": "code",
      "execution_count": 66,
      "metadata": {
        "id": "OVZXi93mvTy3",
        "outputId": "bc108dae-36de-489c-ca99-f4fd550d4d81",
        "colab": {
          "base_uri": "https://localhost:8080/"
        }
      },
      "outputs": [
        {
          "output_type": "stream",
          "name": "stdout",
          "text": [
            "Accuracy: 1.0\n"
          ]
        }
      ],
      "source": [
        "import numpy as np \n",
        "from sklearn.datasets import load_iris \n",
        "from sklearn.linear_model import Perceptron\n",
        "from sklearn.model_selection import train_test_split\n",
        "from sklearn.metrics import accuracy_score\n",
        "\n",
        "#データセットをロード\n",
        "iris = load_iris()\n",
        "#predictor と　target に分ける\n",
        "X = iris.data\n",
        "#Iris Setosaが１の値をとり、それ以外は０\n",
        "Y = (iris.target==0).astype(int)\n",
        "#データセットのシャッフルをして、トレーニング用とテスト用のデータに分ける\n",
        "#モデルの評価をしっかりやりたい時は、cross validationを実行、さらにハイパーパラメータの最適化を行う\n",
        "train_X, test_X, train_Y, test_Y = train_test_split(X,Y,test_size = 0.3, random_state=42, shuffle=True)\n",
        "\n",
        "\n",
        "#トレーニング\n",
        "perc_clf = Perceptron()\n",
        "perc_clf.fit(train_X,train_Y)\n",
        "\n",
        "#テスト\n",
        "predictions  = perc_clf.predict(test_X)\n",
        "\n",
        "#Accuracyを計算\n",
        "print(\"Accuracy: \" +str(accuracy_score(test_Y,predictions))) \n",
        "\n"
      ]
    },
    {
      "cell_type": "markdown",
      "metadata": {
        "id": "NUDPWu9CvTy5"
      },
      "source": [
        "### Multi Layer Perceptron using Scikit learn"
      ]
    },
    {
      "cell_type": "markdown",
      "metadata": {
        "id": "F6A-qF2rvTy5"
      },
      "source": [
        "Multi Layer Perceptronを使って、3つのIrisの種類を判別するモデルを作る\n",
        "\n",
        "__Dataset__\n",
        "\n",
        "前回と同じ\n",
        "\n",
        "__Goal__\n",
        "\n",
        "Irisのがく片と花弁の特徴を基に、Irisの花がIris Setosa、Iris Versicolour、それともIris Virginicaかを判別する。\n",
        "\n",
        "__Note__\n",
        "\n",
        "\n",
        "*   一つのクラスの判別に一つのoutput nodeが必要なので、3つのoutput nodeが必要。ただコードを書く際にこの指定は不要。\n",
        "\n",
        "*   一つ一つのアウトプットノードはそのクラスに当てはまる確率を計算して、出力。\n",
        "\n",
        "\n",
        "\n",
        "*   一つのレコードに対して一つのクラスが割り当てられているので、その三つのoutput node から出てくる確率の合計は１になる必要がある。\n",
        "\n"
      ]
    },
    {
      "cell_type": "code",
      "execution_count": 67,
      "metadata": {
        "id": "fqXSwyakvTy5",
        "outputId": "d516eba9-f430-4125-886a-35c80716ba5c",
        "colab": {
          "base_uri": "https://localhost:8080/"
        }
      },
      "outputs": [
        {
          "output_type": "stream",
          "name": "stdout",
          "text": [
            "Accuracy: 0.9777777777777777\n"
          ]
        },
        {
          "output_type": "stream",
          "name": "stderr",
          "text": [
            "/usr/local/lib/python3.7/dist-packages/sklearn/neural_network/_multilayer_perceptron.py:696: ConvergenceWarning: Stochastic Optimizer: Maximum iterations (200) reached and the optimization hasn't converged yet.\n",
            "  ConvergenceWarning,\n"
          ]
        }
      ],
      "source": [
        "from sklearn.datasets import load_iris\n",
        "from sklearn.neural_network import MLPClassifier\n",
        "from sklearn.model_selection import train_test_split\n",
        "from sklearn.metrics import accuracy_score\n",
        "#データセットをロード\n",
        "iris = load_iris()\n",
        "#predictor と　target に分ける\n",
        "X = iris.data \n",
        "Y = iris.target\n",
        "\n",
        "\n",
        "#データセットのシャッフルをして、トレーニング用とテスト用のデータに分ける\n",
        "#モデルの評価をしっかりやりたい時は、validationのデータセットを作るのが良い。\n",
        "train_X, test_X, train_Y, test_Y = train_test_split(X,Y,test_size = 0.3, random_state=42, shuffle=True)\n",
        "\n",
        "\n",
        "#二つのHidden Layer を追加、それぞれ10個のニューロンを持つ\n",
        "mlp_clsf = MLPClassifier((10,10),activation ='relu',learning_rate='constant',learning_rate_init=0.001)\n",
        "mlp_clsf.fit(train_X,train_Y)\n",
        "predictions = mlp_clsf.predict(test_X)\n",
        "print(\"Accuracy: \"+str(accuracy_score(test_Y,predictions)))\n",
        "\n"
      ]
    },
    {
      "cell_type": "code",
      "execution_count": 68,
      "metadata": {
        "id": "XfyE9k6SvTy6",
        "outputId": "ebea8cbd-030f-4a02-8520-cf72f993ff8e",
        "colab": {
          "base_uri": "https://localhost:8080/"
        }
      },
      "outputs": [
        {
          "output_type": "execute_result",
          "data": {
            "text/plain": [
              "1.0"
            ]
          },
          "metadata": {},
          "execution_count": 68
        }
      ],
      "source": [
        "#確率の合計が１かを確認\n",
        "mlp_clsf.predict_proba(test_X[0].reshape(1,-1)).sum()\n",
        "\n"
      ]
    },
    {
      "cell_type": "markdown",
      "metadata": {
        "id": "AQI7-M9KvTy6"
      },
      "source": [
        "### Activation Function "
      ]
    },
    {
      "cell_type": "markdown",
      "source": [
        "このMLPにSoftmaxがactivation functionとして使われている"
      ],
      "metadata": {
        "id": "k7_W11IYID2p"
      }
    },
    {
      "cell_type": "code",
      "execution_count": 69,
      "metadata": {
        "id": "ffl1_qbxvTy7",
        "outputId": "1aee936a-950d-4e65-fe46-69e9e3aa96fe",
        "colab": {
          "base_uri": "https://localhost:8080/",
          "height": 35
        }
      },
      "outputs": [
        {
          "output_type": "execute_result",
          "data": {
            "text/plain": [
              "'softmax'"
            ],
            "application/vnd.google.colaboratory.intrinsic+json": {
              "type": "string"
            }
          },
          "metadata": {},
          "execution_count": 69
        }
      ],
      "source": [
        "mlp_clsf.out_activation_"
      ]
    },
    {
      "cell_type": "markdown",
      "metadata": {
        "id": "xEC5-Px4vTy7"
      },
      "source": [
        "## MLP Regression "
      ]
    },
    {
      "cell_type": "markdown",
      "metadata": {
        "id": "ENGVw0vUvTy7"
      },
      "source": [
        "MLP Regressorを用いて、ボストンの住宅価格(単位は1000$)を予測するモデルを作る\n",
        "\n",
        "__Dataset__ \n",
        "\n",
        "1970年代のボストン郊外の住宅地に関するデータセット。ボストン郊外の異なるロケーションで13個の住宅に関する変数と住宅の価格の中央値が記録されている。506個のレコードが記録されている。\n",
        "\n",
        "__Goal__\n",
        "\n",
        "その中央値を13個の変数を基に予測する。\n",
        "\n",
        "\n",
        "　"
      ]
    },
    {
      "cell_type": "code",
      "execution_count": 70,
      "metadata": {
        "scrolled": true,
        "id": "fC6bRC1PvTy7",
        "outputId": "dbdca34d-e4fc-4f29-eefc-0c208b18cda6",
        "colab": {
          "base_uri": "https://localhost:8080/"
        }
      },
      "outputs": [
        {
          "output_type": "stream",
          "name": "stderr",
          "text": [
            "/usr/local/lib/python3.7/dist-packages/sklearn/utils/deprecation.py:87: FutureWarning: Function load_boston is deprecated; `load_boston` is deprecated in 1.0 and will be removed in 1.2.\n",
            "\n",
            "    The Boston housing prices dataset has an ethical problem. You can refer to\n",
            "    the documentation of this function for further details.\n",
            "\n",
            "    The scikit-learn maintainers therefore strongly discourage the use of this\n",
            "    dataset unless the purpose of the code is to study and educate about\n",
            "    ethical issues in data science and machine learning.\n",
            "\n",
            "    In this special case, you can fetch the dataset from the original\n",
            "    source::\n",
            "\n",
            "        import pandas as pd\n",
            "        import numpy as np\n",
            "\n",
            "\n",
            "        data_url = \"http://lib.stat.cmu.edu/datasets/boston\"\n",
            "        raw_df = pd.read_csv(data_url, sep=\"\\s+\", skiprows=22, header=None)\n",
            "        data = np.hstack([raw_df.values[::2, :], raw_df.values[1::2, :2]])\n",
            "        target = raw_df.values[1::2, 2]\n",
            "\n",
            "    Alternative datasets include the California housing dataset (i.e.\n",
            "    :func:`~sklearn.datasets.fetch_california_housing`) and the Ames housing\n",
            "    dataset. You can load the datasets as follows::\n",
            "\n",
            "        from sklearn.datasets import fetch_california_housing\n",
            "        housing = fetch_california_housing()\n",
            "\n",
            "    for the California housing dataset and::\n",
            "\n",
            "        from sklearn.datasets import fetch_openml\n",
            "        housing = fetch_openml(name=\"house_prices\", as_frame=True)\n",
            "\n",
            "    for the Ames housing dataset.\n",
            "    \n",
            "  warnings.warn(msg, category=FutureWarning)\n"
          ]
        },
        {
          "output_type": "stream",
          "name": "stdout",
          "text": [
            "RSME: 4.699377521565086\n"
          ]
        }
      ],
      "source": [
        "from sklearn.datasets import load_boston\n",
        "from sklearn.neural_network import MLPRegressor\n",
        "from sklearn.model_selection import train_test_split\n",
        "from sklearn.metrics import mean_squared_error\n",
        "\n",
        "#データセットをロード\n",
        "dataset  = load_boston()\n",
        "X = dataset['data']\n",
        "Y = dataset['target']\n",
        "\n",
        "\n",
        "#テストとトレーニングのデータセットに分ける\n",
        "#モデルの評価をしっかりやりたい時は、validationのデータセットを作るのが良い。\n",
        "train_X, test_X, train_Y, test_Y = train_test_split(X,Y, test_size = 0.3, random_state = 42, shuffle = True)\n",
        "\n",
        "\n",
        "#２個のhidden layerを追加　activation function は relu.\n",
        "mlp_reg = MLPRegressor((10,10),activation ='relu',learning_rate='constant',learning_rate_init=0.001,max_iter=3000,random_state=42)\n",
        "mlp_reg.fit(train_X,train_Y)\n",
        "predictions = mlp_reg.predict(test_X)\n",
        "\n",
        "\n",
        "\n",
        "#RSMEを計算\n",
        "error = mean_squared_error(test_Y,predictions) ** (1/2)\n",
        "print(\"RSME: \" +str(error))\n",
        "\n"
      ]
    },
    {
      "cell_type": "markdown",
      "metadata": {
        "id": "VfeMh6E7vTy8"
      },
      "source": [
        "::アウトプットノードのActivation functionはIdentity。（Activation function は使われていないということ。）"
      ]
    },
    {
      "cell_type": "code",
      "execution_count": 71,
      "metadata": {
        "scrolled": true,
        "id": "yLfuWPKWvTy8",
        "outputId": "0fe10c82-adb6-4888-feff-1fef965546b9",
        "colab": {
          "base_uri": "https://localhost:8080/",
          "height": 35
        }
      },
      "outputs": [
        {
          "output_type": "execute_result",
          "data": {
            "text/plain": [
              "'identity'"
            ],
            "application/vnd.google.colaboratory.intrinsic+json": {
              "type": "string"
            }
          },
          "metadata": {},
          "execution_count": 71
        }
      ],
      "source": [
        "mlp_reg.out_activation_"
      ]
    },
    {
      "cell_type": "markdown",
      "metadata": {
        "id": "KFaUB_E7vTy8"
      },
      "source": [
        "## Regression using Keras  "
      ]
    },
    {
      "cell_type": "code",
      "execution_count": 72,
      "metadata": {
        "scrolled": true,
        "id": "36cxPugbvTy8",
        "outputId": "a4638a4b-e52f-4482-9d5f-5352b2020120",
        "colab": {
          "base_uri": "https://localhost:8080/"
        }
      },
      "outputs": [
        {
          "output_type": "stream",
          "name": "stdout",
          "text": [
            "Model: \"sequential_5\"\n",
            "_________________________________________________________________\n",
            " Layer (type)                Output Shape              Param #   \n",
            "=================================================================\n",
            " dense_7 (Dense)             (None, 30)                420       \n",
            "                                                                 \n",
            " dense_8 (Dense)             (None, 1)                 31        \n",
            "                                                                 \n",
            "=================================================================\n",
            "Total params: 451\n",
            "Trainable params: 451\n",
            "Non-trainable params: 0\n",
            "_________________________________________________________________\n",
            "Epoch 1/70\n",
            "10/10 [==============================] - 1s 19ms/step - loss: 209.4229 - root_mean_squared_error: 14.4715 - val_loss: 60.3269 - val_root_mean_squared_error: 7.7670\n",
            "Epoch 2/70\n",
            "10/10 [==============================] - 0s 5ms/step - loss: 28.2858 - root_mean_squared_error: 5.3184 - val_loss: 49.7736 - val_root_mean_squared_error: 7.0550\n",
            "Epoch 3/70\n",
            "10/10 [==============================] - 0s 6ms/step - loss: 21.4655 - root_mean_squared_error: 4.6331 - val_loss: 41.1170 - val_root_mean_squared_error: 6.4123\n",
            "Epoch 4/70\n",
            "10/10 [==============================] - 0s 6ms/step - loss: 17.3485 - root_mean_squared_error: 4.1652 - val_loss: 36.4756 - val_root_mean_squared_error: 6.0395\n",
            "Epoch 5/70\n",
            "10/10 [==============================] - 0s 6ms/step - loss: 17.0335 - root_mean_squared_error: 4.1272 - val_loss: 39.7692 - val_root_mean_squared_error: 6.3063\n",
            "Epoch 6/70\n",
            "10/10 [==============================] - 0s 6ms/step - loss: 17.4400 - root_mean_squared_error: 4.1761 - val_loss: 29.5733 - val_root_mean_squared_error: 5.4381\n",
            "Epoch 7/70\n",
            "10/10 [==============================] - 0s 7ms/step - loss: 14.6633 - root_mean_squared_error: 3.8293 - val_loss: 32.8653 - val_root_mean_squared_error: 5.7328\n",
            "Epoch 8/70\n",
            "10/10 [==============================] - 0s 6ms/step - loss: 13.3397 - root_mean_squared_error: 3.6524 - val_loss: 29.8696 - val_root_mean_squared_error: 5.4653\n",
            "Epoch 9/70\n",
            "10/10 [==============================] - 0s 7ms/step - loss: 12.2038 - root_mean_squared_error: 3.4934 - val_loss: 32.7152 - val_root_mean_squared_error: 5.7197\n",
            "Epoch 10/70\n",
            "10/10 [==============================] - 0s 6ms/step - loss: 13.1353 - root_mean_squared_error: 3.6243 - val_loss: 31.3053 - val_root_mean_squared_error: 5.5951\n",
            "Epoch 11/70\n",
            "10/10 [==============================] - 0s 7ms/step - loss: 11.9696 - root_mean_squared_error: 3.4597 - val_loss: 26.8510 - val_root_mean_squared_error: 5.1818\n",
            "Epoch 12/70\n",
            "10/10 [==============================] - 0s 6ms/step - loss: 11.5480 - root_mean_squared_error: 3.3982 - val_loss: 22.8365 - val_root_mean_squared_error: 4.7788\n",
            "Epoch 13/70\n",
            "10/10 [==============================] - 0s 6ms/step - loss: 11.5155 - root_mean_squared_error: 3.3934 - val_loss: 26.3869 - val_root_mean_squared_error: 5.1368\n",
            "Epoch 14/70\n",
            "10/10 [==============================] - 0s 5ms/step - loss: 10.3724 - root_mean_squared_error: 3.2206 - val_loss: 25.6844 - val_root_mean_squared_error: 5.0680\n",
            "Epoch 15/70\n",
            "10/10 [==============================] - 0s 7ms/step - loss: 10.6035 - root_mean_squared_error: 3.2563 - val_loss: 24.2899 - val_root_mean_squared_error: 4.9285\n",
            "Epoch 16/70\n",
            "10/10 [==============================] - 0s 5ms/step - loss: 9.9040 - root_mean_squared_error: 3.1471 - val_loss: 22.6107 - val_root_mean_squared_error: 4.7551\n",
            "Epoch 17/70\n",
            "10/10 [==============================] - 0s 6ms/step - loss: 10.1867 - root_mean_squared_error: 3.1917 - val_loss: 23.8988 - val_root_mean_squared_error: 4.8886\n",
            "Epoch 18/70\n",
            "10/10 [==============================] - 0s 7ms/step - loss: 9.5531 - root_mean_squared_error: 3.0908 - val_loss: 19.2182 - val_root_mean_squared_error: 4.3839\n",
            "Epoch 19/70\n",
            "10/10 [==============================] - 0s 6ms/step - loss: 9.7666 - root_mean_squared_error: 3.1252 - val_loss: 18.4080 - val_root_mean_squared_error: 4.2904\n",
            "Epoch 20/70\n",
            "10/10 [==============================] - 0s 6ms/step - loss: 8.6420 - root_mean_squared_error: 2.9397 - val_loss: 18.6204 - val_root_mean_squared_error: 4.3151\n",
            "Epoch 21/70\n",
            "10/10 [==============================] - 0s 6ms/step - loss: 11.0738 - root_mean_squared_error: 3.3277 - val_loss: 16.8691 - val_root_mean_squared_error: 4.1072\n",
            "Epoch 22/70\n",
            "10/10 [==============================] - 0s 4ms/step - loss: 8.8222 - root_mean_squared_error: 2.9702 - val_loss: 20.0513 - val_root_mean_squared_error: 4.4779\n",
            "Epoch 23/70\n",
            "10/10 [==============================] - 0s 6ms/step - loss: 10.4571 - root_mean_squared_error: 3.2337 - val_loss: 18.6396 - val_root_mean_squared_error: 4.3174\n",
            "Epoch 24/70\n",
            "10/10 [==============================] - 0s 6ms/step - loss: 9.1272 - root_mean_squared_error: 3.0211 - val_loss: 16.5583 - val_root_mean_squared_error: 4.0692\n",
            "Epoch 25/70\n",
            "10/10 [==============================] - 0s 7ms/step - loss: 9.3426 - root_mean_squared_error: 3.0566 - val_loss: 18.7693 - val_root_mean_squared_error: 4.3323\n",
            "Epoch 26/70\n",
            "10/10 [==============================] - 0s 6ms/step - loss: 10.1332 - root_mean_squared_error: 3.1833 - val_loss: 18.3643 - val_root_mean_squared_error: 4.2854\n",
            "Epoch 27/70\n",
            "10/10 [==============================] - 0s 6ms/step - loss: 9.1318 - root_mean_squared_error: 3.0219 - val_loss: 26.3893 - val_root_mean_squared_error: 5.1370\n",
            "Epoch 28/70\n",
            "10/10 [==============================] - 0s 6ms/step - loss: 10.0463 - root_mean_squared_error: 3.1696 - val_loss: 17.2352 - val_root_mean_squared_error: 4.1515\n",
            "Epoch 29/70\n",
            "10/10 [==============================] - 0s 6ms/step - loss: 8.3840 - root_mean_squared_error: 2.8955 - val_loss: 16.3910 - val_root_mean_squared_error: 4.0486\n",
            "Epoch 30/70\n",
            "10/10 [==============================] - 0s 7ms/step - loss: 8.6250 - root_mean_squared_error: 2.9368 - val_loss: 17.0458 - val_root_mean_squared_error: 4.1287\n",
            "Epoch 31/70\n",
            "10/10 [==============================] - 0s 5ms/step - loss: 9.5943 - root_mean_squared_error: 3.0975 - val_loss: 17.8598 - val_root_mean_squared_error: 4.2261\n",
            "Epoch 32/70\n",
            "10/10 [==============================] - 0s 5ms/step - loss: 8.1124 - root_mean_squared_error: 2.8482 - val_loss: 15.4144 - val_root_mean_squared_error: 3.9261\n",
            "Epoch 33/70\n",
            "10/10 [==============================] - 0s 8ms/step - loss: 9.3906 - root_mean_squared_error: 3.0644 - val_loss: 18.5365 - val_root_mean_squared_error: 4.3054\n",
            "Epoch 34/70\n",
            "10/10 [==============================] - 0s 5ms/step - loss: 8.2603 - root_mean_squared_error: 2.8741 - val_loss: 18.8427 - val_root_mean_squared_error: 4.3408\n",
            "Epoch 35/70\n",
            "10/10 [==============================] - 0s 5ms/step - loss: 7.4822 - root_mean_squared_error: 2.7354 - val_loss: 18.2681 - val_root_mean_squared_error: 4.2741\n",
            "Epoch 36/70\n",
            "10/10 [==============================] - 0s 5ms/step - loss: 7.7445 - root_mean_squared_error: 2.7829 - val_loss: 22.6659 - val_root_mean_squared_error: 4.7609\n",
            "Epoch 37/70\n",
            "10/10 [==============================] - 0s 5ms/step - loss: 8.5108 - root_mean_squared_error: 2.9173 - val_loss: 18.2755 - val_root_mean_squared_error: 4.2750\n",
            "Epoch 38/70\n",
            "10/10 [==============================] - 0s 7ms/step - loss: 8.4305 - root_mean_squared_error: 2.9035 - val_loss: 17.2437 - val_root_mean_squared_error: 4.1526\n",
            "Epoch 39/70\n",
            "10/10 [==============================] - 0s 7ms/step - loss: 7.8404 - root_mean_squared_error: 2.8001 - val_loss: 16.9945 - val_root_mean_squared_error: 4.1224\n",
            "Epoch 40/70\n",
            "10/10 [==============================] - 0s 5ms/step - loss: 9.4112 - root_mean_squared_error: 3.0678 - val_loss: 22.5677 - val_root_mean_squared_error: 4.7506\n",
            "Epoch 41/70\n",
            "10/10 [==============================] - 0s 7ms/step - loss: 8.7221 - root_mean_squared_error: 2.9533 - val_loss: 14.6434 - val_root_mean_squared_error: 3.8267\n",
            "Epoch 42/70\n",
            "10/10 [==============================] - 0s 7ms/step - loss: 8.2182 - root_mean_squared_error: 2.8667 - val_loss: 18.4013 - val_root_mean_squared_error: 4.2897\n",
            "Epoch 43/70\n",
            "10/10 [==============================] - 0s 6ms/step - loss: 9.5209 - root_mean_squared_error: 3.0856 - val_loss: 15.7017 - val_root_mean_squared_error: 3.9625\n",
            "Epoch 44/70\n",
            "10/10 [==============================] - 0s 5ms/step - loss: 7.2554 - root_mean_squared_error: 2.6936 - val_loss: 15.1777 - val_root_mean_squared_error: 3.8959\n",
            "Epoch 45/70\n",
            "10/10 [==============================] - 0s 7ms/step - loss: 8.2346 - root_mean_squared_error: 2.8696 - val_loss: 14.1896 - val_root_mean_squared_error: 3.7669\n",
            "Epoch 46/70\n",
            "10/10 [==============================] - 0s 6ms/step - loss: 7.5435 - root_mean_squared_error: 2.7465 - val_loss: 15.7800 - val_root_mean_squared_error: 3.9724\n",
            "Epoch 47/70\n",
            "10/10 [==============================] - 0s 4ms/step - loss: 7.8896 - root_mean_squared_error: 2.8088 - val_loss: 19.4717 - val_root_mean_squared_error: 4.4127\n",
            "Epoch 48/70\n",
            "10/10 [==============================] - 0s 6ms/step - loss: 7.6575 - root_mean_squared_error: 2.7672 - val_loss: 15.0063 - val_root_mean_squared_error: 3.8738\n",
            "Epoch 49/70\n",
            "10/10 [==============================] - 0s 6ms/step - loss: 8.8778 - root_mean_squared_error: 2.9796 - val_loss: 16.6647 - val_root_mean_squared_error: 4.0822\n",
            "Epoch 50/70\n",
            "10/10 [==============================] - 0s 6ms/step - loss: 7.1511 - root_mean_squared_error: 2.6742 - val_loss: 17.9202 - val_root_mean_squared_error: 4.2332\n",
            "Epoch 51/70\n",
            "10/10 [==============================] - 0s 5ms/step - loss: 7.2724 - root_mean_squared_error: 2.6967 - val_loss: 16.0330 - val_root_mean_squared_error: 4.0041\n",
            "Epoch 52/70\n",
            "10/10 [==============================] - 0s 6ms/step - loss: 8.4611 - root_mean_squared_error: 2.9088 - val_loss: 19.8624 - val_root_mean_squared_error: 4.4567\n",
            "Epoch 53/70\n",
            "10/10 [==============================] - 0s 5ms/step - loss: 7.1315 - root_mean_squared_error: 2.6705 - val_loss: 16.9835 - val_root_mean_squared_error: 4.1211\n",
            "Epoch 54/70\n",
            "10/10 [==============================] - 0s 5ms/step - loss: 7.3109 - root_mean_squared_error: 2.7039 - val_loss: 15.7797 - val_root_mean_squared_error: 3.9724\n",
            "Epoch 55/70\n",
            "10/10 [==============================] - 0s 6ms/step - loss: 7.2993 - root_mean_squared_error: 2.7017 - val_loss: 16.5371 - val_root_mean_squared_error: 4.0666\n",
            "Epoch 56/70\n",
            "10/10 [==============================] - 0s 6ms/step - loss: 8.2363 - root_mean_squared_error: 2.8699 - val_loss: 14.2657 - val_root_mean_squared_error: 3.7770\n",
            "Epoch 57/70\n",
            "10/10 [==============================] - 0s 6ms/step - loss: 6.9337 - root_mean_squared_error: 2.6332 - val_loss: 13.3155 - val_root_mean_squared_error: 3.6490\n",
            "Epoch 58/70\n",
            "10/10 [==============================] - 0s 6ms/step - loss: 8.5645 - root_mean_squared_error: 2.9265 - val_loss: 13.4992 - val_root_mean_squared_error: 3.6741\n",
            "Epoch 59/70\n",
            "10/10 [==============================] - 0s 6ms/step - loss: 7.1710 - root_mean_squared_error: 2.6779 - val_loss: 16.8332 - val_root_mean_squared_error: 4.1028\n",
            "Epoch 60/70\n",
            "10/10 [==============================] - 0s 6ms/step - loss: 7.5423 - root_mean_squared_error: 2.7463 - val_loss: 25.6198 - val_root_mean_squared_error: 5.0616\n",
            "Epoch 61/70\n",
            "10/10 [==============================] - 0s 5ms/step - loss: 8.2788 - root_mean_squared_error: 2.8773 - val_loss: 14.2043 - val_root_mean_squared_error: 3.7689\n",
            "Epoch 62/70\n",
            "10/10 [==============================] - 0s 5ms/step - loss: 6.7163 - root_mean_squared_error: 2.5916 - val_loss: 21.4584 - val_root_mean_squared_error: 4.6323\n",
            "Epoch 63/70\n",
            "10/10 [==============================] - 0s 6ms/step - loss: 7.0448 - root_mean_squared_error: 2.6542 - val_loss: 16.3669 - val_root_mean_squared_error: 4.0456\n",
            "Epoch 64/70\n",
            "10/10 [==============================] - 0s 5ms/step - loss: 6.4544 - root_mean_squared_error: 2.5406 - val_loss: 16.6421 - val_root_mean_squared_error: 4.0795\n",
            "Epoch 65/70\n",
            "10/10 [==============================] - 0s 6ms/step - loss: 6.9894 - root_mean_squared_error: 2.6437 - val_loss: 18.4219 - val_root_mean_squared_error: 4.2921\n",
            "Epoch 66/70\n",
            "10/10 [==============================] - 0s 5ms/step - loss: 7.1675 - root_mean_squared_error: 2.6772 - val_loss: 21.2435 - val_root_mean_squared_error: 4.6091\n",
            "Epoch 67/70\n",
            "10/10 [==============================] - 0s 5ms/step - loss: 7.3179 - root_mean_squared_error: 2.7052 - val_loss: 16.4633 - val_root_mean_squared_error: 4.0575\n",
            "Epoch 68/70\n",
            "10/10 [==============================] - 0s 6ms/step - loss: 7.6061 - root_mean_squared_error: 2.7579 - val_loss: 21.5695 - val_root_mean_squared_error: 4.6443\n",
            "Epoch 69/70\n",
            "10/10 [==============================] - 0s 6ms/step - loss: 8.5665 - root_mean_squared_error: 2.9269 - val_loss: 15.3562 - val_root_mean_squared_error: 3.9187\n",
            "Epoch 70/70\n",
            "10/10 [==============================] - 0s 4ms/step - loss: 6.9047 - root_mean_squared_error: 2.6277 - val_loss: 20.5562 - val_root_mean_squared_error: 4.5339\n"
          ]
        }
      ],
      "source": [
        "import tensorflow as tf \n",
        "from tensorflow import keras\n",
        "from sklearn.preprocessing import StandardScaler\n",
        "\n",
        "#データセットをダウンロード\n",
        "house_price = keras.datasets.boston_housing\n",
        "#データをtraining, validation, test に分ける\n",
        "(train_X, train_Y), (test_X, test_Y) = house_price.load_data()\n",
        "train_X, valid_X, train_Y, valid_Y = train_test_split(train_X, train_Y)\n",
        "\n",
        "\n",
        "\n",
        "#変数をスケーリング　最適化を早くするため\n",
        "scaler  = StandardScaler() \n",
        "train_X = scaler.fit_transform(train_X)\n",
        "valid_X = scaler.fit_transform(valid_X)\n",
        "test_X = scaler.fit_transform(test_X)\n",
        "\n",
        "\n",
        "\n",
        "\n",
        "#KerasのSequential model を使う\n",
        "keras_model = keras.models.Sequential() \n",
        "#インプットレイヤーを追加\n",
        "keras_model.add(tf.keras.Input(shape=train_X.shape[1:],)) \n",
        "#Hidden layer を追加\n",
        "keras_model.add(tf.keras.layers.Dense(30,activation=\"relu\"))\n",
        "#Output layer を追加\n",
        "keras_model.add(tf.keras.layers.Dense(1))\n",
        "\n",
        "keras_model.summary()\n",
        "\n",
        "\n",
        "#モデルをコンパイル\n",
        "keras_model.compile(loss=\"mean_squared_error\", optimizer=\"sgd\",metrics=[tf.keras.metrics.RootMeanSquaredError(\n",
        "name=\"root_mean_squared_error\", dtype=None)])\n",
        "\n",
        "\n",
        "#モデルをトレーニング\n",
        "#validationのデータセットがあれば、それを渡すことで、validationに関してのlossやRMSEの計算なども簡単にできる。\n",
        "history = keras_model.fit(train_X, train_Y, epochs=70, validation_data=(valid_X, valid_Y))\n"
      ]
    },
    {
      "cell_type": "markdown",
      "source": [
        "損失関数とRMSEの値をエポックごとにプロットする。ValidationとTraningのデータセットのそれぞれに、その二つの値が計算されている。　エポックはトレーニングのデータセットを何回学習したかを表します。ニューラルネットでは一つのトレーニングのデータセットを何回も学習させます。"
      ],
      "metadata": {
        "id": "nudpvV9FNTI8"
      }
    },
    {
      "cell_type": "code",
      "execution_count": 73,
      "metadata": {
        "id": "QeqAypyevTy9",
        "outputId": "baeda6bf-077b-4e9b-a68e-6353873f8438",
        "colab": {
          "base_uri": "https://localhost:8080/",
          "height": 501
        }
      },
      "outputs": [
        {
          "output_type": "display_data",
          "data": {
            "text/plain": [
              "<Figure size 720x576 with 1 Axes>"
            ],
            "image/png": "[encoded data removed]"
          },
          "metadata": {
            "needs_background": "light"
          }
        }
      ],
      "source": [
        "import pandas as pd \n",
        "import matplotlib.pyplot as plt\n",
        "pd.DataFrame(history.history).plot(figsize=(10,8))\n",
        "plt.grid(True)\n",
        "plt.gca().set_ylim(0,60)\n",
        "plt.xlabel(\"# of Epocs\")\n",
        "plt.show()\n",
        "\n",
        "\n",
        "\n"
      ]
    },
    {
      "cell_type": "markdown",
      "source": [
        "Test Datasetにモデルを適応して、RMSEを計算"
      ],
      "metadata": {
        "id": "3xW99aZMN49B"
      }
    },
    {
      "cell_type": "code",
      "execution_count": 74,
      "metadata": {
        "id": "AA35BTjJvTy9",
        "outputId": "b6f7e0e6-0799-4893-dbd0-4150826a9950",
        "colab": {
          "base_uri": "https://localhost:8080/"
        }
      },
      "outputs": [
        {
          "output_type": "execute_result",
          "data": {
            "text/plain": [
              "4.723173696713041"
            ]
          },
          "metadata": {},
          "execution_count": 74
        }
      ],
      "source": [
        "mean_squared_error(test_Y,keras_model.predict(test_X)) ** (1/2)"
      ]
    },
    {
      "cell_type": "markdown",
      "metadata": {
        "id": "7hXlz7iBvTy9"
      },
      "source": [
        "## Classificaiton using Keras "
      ]
    },
    {
      "cell_type": "markdown",
      "source": [
        "Dataset\n",
        "\n",
        "手書きの数字を表したイメージが含まれている。イメージは28*28で全７８４ピクセル。\n",
        "\n",
        "Goal \n",
        "\n",
        "イメージが０から９のどの数字なのかを判別する。"
      ],
      "metadata": {
        "id": "7H6eGUDslmQR"
      }
    },
    {
      "cell_type": "code",
      "execution_count": 86,
      "metadata": {
        "id": "f-R9_s0IvTy9"
      },
      "outputs": [],
      "source": [
        "#データをダウンロードして、トレーニングとテストに分ける\n",
        "(train_X, train_Y), (test_X, test_Y) = tf.keras.datasets.mnist.load_data(path=\"mnist.npz\")"
      ]
    },
    {
      "cell_type": "code",
      "execution_count": 87,
      "metadata": {
        "scrolled": true,
        "id": "caiVoYtgvTy9",
        "outputId": "b8f4b01f-2651-4e4d-f365-e7745d29d08d",
        "colab": {
          "base_uri": "https://localhost:8080/",
          "height": 265
        }
      },
      "outputs": [
        {
          "output_type": "display_data",
          "data": {
            "text/plain": [
              "<Figure size 432x288 with 1 Axes>"
            ],
            "image/png": "[encoded data removed]"
          },
          "metadata": {
            "needs_background": "light"
          }
        }
      ],
      "source": [
        "#イメージを実際に視覚化してみる\n",
        "from matplotlib import pyplot as plt\n",
        "plt.imshow(train_X[0],cmap='Greys')\n",
        "plt.show()"
      ]
    },
    {
      "cell_type": "code",
      "execution_count": 88,
      "metadata": {
        "scrolled": true,
        "id": "enlaIOA1vTy9",
        "outputId": "6317b424-120e-4ff4-8734-388537b203fb",
        "colab": {
          "base_uri": "https://localhost:8080/"
        }
      },
      "outputs": [
        {
          "output_type": "stream",
          "name": "stdout",
          "text": [
            "Model: \"sequential_8\"\n",
            "_________________________________________________________________\n",
            " Layer (type)                Output Shape              Param #   \n",
            "=================================================================\n",
            " flatten_6 (Flatten)         (None, 784)               0         \n",
            "                                                                 \n",
            " dense_12 (Dense)            (None, 10)                7850      \n",
            "                                                                 \n",
            "=================================================================\n",
            "Total params: 7,850\n",
            "Trainable params: 7,850\n",
            "Non-trainable params: 0\n",
            "_________________________________________________________________\n",
            "Epoch 1/20\n",
            "1407/1407 [==============================] - 7s 4ms/step - loss: 0.8551 - accuracy: 0.8029 - val_loss: 0.5498 - val_accuracy: 0.8625\n",
            "Epoch 2/20\n",
            "1407/1407 [==============================] - 3s 2ms/step - loss: 0.4930 - accuracy: 0.8736 - val_loss: 0.4508 - val_accuracy: 0.8817\n",
            "Epoch 3/20\n",
            "1407/1407 [==============================] - 3s 2ms/step - loss: 0.4300 - accuracy: 0.8858 - val_loss: 0.4100 - val_accuracy: 0.8895\n",
            "Epoch 4/20\n",
            "1407/1407 [==============================] - 3s 2ms/step - loss: 0.3986 - accuracy: 0.8928 - val_loss: 0.3886 - val_accuracy: 0.8929\n",
            "Epoch 5/20\n",
            "1407/1407 [==============================] - 3s 2ms/step - loss: 0.3790 - accuracy: 0.8963 - val_loss: 0.3728 - val_accuracy: 0.8961\n",
            "Epoch 6/20\n",
            "1407/1407 [==============================] - 3s 2ms/step - loss: 0.3651 - accuracy: 0.8995 - val_loss: 0.3608 - val_accuracy: 0.8991\n",
            "Epoch 7/20\n",
            "1407/1407 [==============================] - 3s 2ms/step - loss: 0.3545 - accuracy: 0.9025 - val_loss: 0.3523 - val_accuracy: 0.9027\n",
            "Epoch 8/20\n",
            "1407/1407 [==============================] - 3s 2ms/step - loss: 0.3462 - accuracy: 0.9039 - val_loss: 0.3463 - val_accuracy: 0.9026\n",
            "Epoch 9/20\n",
            "1407/1407 [==============================] - 3s 2ms/step - loss: 0.3393 - accuracy: 0.9058 - val_loss: 0.3416 - val_accuracy: 0.9036\n",
            "Epoch 10/20\n",
            "1407/1407 [==============================] - 3s 2ms/step - loss: 0.3335 - accuracy: 0.9072 - val_loss: 0.3356 - val_accuracy: 0.9054\n",
            "Epoch 11/20\n",
            "1407/1407 [==============================] - 3s 2ms/step - loss: 0.3285 - accuracy: 0.9084 - val_loss: 0.3328 - val_accuracy: 0.9062\n",
            "Epoch 12/20\n",
            "1407/1407 [==============================] - 3s 2ms/step - loss: 0.3242 - accuracy: 0.9100 - val_loss: 0.3286 - val_accuracy: 0.9074\n",
            "Epoch 13/20\n",
            "1407/1407 [==============================] - 3s 2ms/step - loss: 0.3205 - accuracy: 0.9113 - val_loss: 0.3257 - val_accuracy: 0.9077\n",
            "Epoch 14/20\n",
            "1407/1407 [==============================] - 3s 2ms/step - loss: 0.3172 - accuracy: 0.9122 - val_loss: 0.3231 - val_accuracy: 0.9085\n",
            "Epoch 15/20\n",
            "1407/1407 [==============================] - 3s 2ms/step - loss: 0.3141 - accuracy: 0.9127 - val_loss: 0.3204 - val_accuracy: 0.9095\n",
            "Epoch 16/20\n",
            "1407/1407 [==============================] - 3s 2ms/step - loss: 0.3114 - accuracy: 0.9141 - val_loss: 0.3196 - val_accuracy: 0.9095\n",
            "Epoch 17/20\n",
            "1407/1407 [==============================] - 3s 2ms/step - loss: 0.3089 - accuracy: 0.9146 - val_loss: 0.3171 - val_accuracy: 0.9103\n",
            "Epoch 18/20\n",
            "1407/1407 [==============================] - 3s 2ms/step - loss: 0.3065 - accuracy: 0.9147 - val_loss: 0.3160 - val_accuracy: 0.9110\n",
            "Epoch 19/20\n",
            "1407/1407 [==============================] - 3s 2ms/step - loss: 0.3045 - accuracy: 0.9159 - val_loss: 0.3137 - val_accuracy: 0.9115\n",
            "Epoch 20/20\n",
            "1407/1407 [==============================] - 3s 2ms/step - loss: 0.3026 - accuracy: 0.9162 - val_loss: 0.3125 - val_accuracy: 0.9115\n"
          ]
        }
      ],
      "source": [
        "import tensorflow as tf\n",
        "from tensorflow import keras\n",
        "from sklearn.preprocessing import StandardScaler\n",
        "#training と validationに分ける\n",
        "train_X, valid_X, train_Y, valid_Y = train_test_split(train_X, train_Y)\n",
        "#最適化のアルゴリズムを早くするために、変数をスケーリングします。\n",
        "train_X = train_X / 255.0\n",
        "valid_X = valid_X / 255.0\n",
        "test_X = test_X / 255.0\n",
        "\n",
        "keras_clf = keras.models.Sequential()\n",
        "#input layerを作る。もともとのinputのデータが2-Dなので、1Dにします。\n",
        "keras_clf.add(keras.layers.Flatten(input_shape=[28,28]))\n",
        "#output layer を作る.10個のクラスがあるので、10個のニューロンが必要。\n",
        "\n",
        "keras_clf.add(keras.layers.Dense(10,activation = 'softmax'))\n",
        "keras_clf.summary()\n",
        "keras_clf.compile(loss=\"sparse_categorical_crossentropy\", optimizer=\"sgd\",metrics=[\"accuracy\"])\n",
        "history = keras_clf.fit(train_X, train_Y, epochs=20, validation_data=(valid_X, valid_Y))"
      ]
    },
    {
      "cell_type": "markdown",
      "source": [
        " 損失関数とaccuracyの値をエポックごとにプロットする。ValidationとTraningのデータセットのそれぞれに、その二つの値が計算されている。"
      ],
      "metadata": {
        "id": "OFAHqKmTnFlp"
      }
    },
    {
      "cell_type": "code",
      "execution_count": 89,
      "metadata": {
        "id": "bPTb-xO0vTy-",
        "outputId": "3fc5d535-4a94-4b2b-a994-01eb59ee540d",
        "colab": {
          "base_uri": "https://localhost:8080/",
          "height": 334
        }
      },
      "outputs": [
        {
          "output_type": "display_data",
          "data": {
            "text/plain": [
              "<Figure size 576x360 with 1 Axes>"
            ],
            "image/png": "[encoded data removed]"
          },
          "metadata": {
            "needs_background": "light"
          }
        }
      ],
      "source": [
        "pd.DataFrame(history.history).plot(figsize=(8,5))\n",
        "plt.grid(True)\n",
        "plt.gca()\n",
        "plt.xlabel(\"# of Epocs\")\n",
        "plt.show()"
      ]
    },
    {
      "cell_type": "markdown",
      "metadata": {
        "id": "7AMbWYBavTy-"
      },
      "source": [
        "### Test データを使って予測してみる"
      ]
    },
    {
      "cell_type": "code",
      "execution_count": 90,
      "metadata": {
        "id": "sRT4lmozvTy-",
        "outputId": "15a78079-d443-43a9-a586-0b50f4c617ce",
        "colab": {
          "base_uri": "https://localhost:8080/"
        }
      },
      "outputs": [
        {
          "output_type": "stream",
          "name": "stdout",
          "text": [
            "Accuracy: 0.9166\n"
          ]
        }
      ],
      "source": [
        "#accuracyを計算\n",
        "from sklearn.metrics import accuracy_score\n",
        "print(\"Accuracy: \" +str(accuracy_score(test_Y,keras_clf.predict(test_X).argmax(axis=-1))))"
      ]
    },
    {
      "cell_type": "markdown",
      "source": [
        "ニューラルネットの学習の視覚化"
      ],
      "metadata": {
        "id": "tQD_UdQ02IB-"
      }
    },
    {
      "cell_type": "markdown",
      "source": [
        "この数字判別の問題だと、アウトプットノードが１０個あります。それぞれのノードが７８４個のインプットノードとエッジで結ばれていて、そのエッジに重みがつけられています。つまり、一つのクラスに７８４個の重みがあります。\n",
        "\n",
        "それでは、ここでいう重みの最適化は何を指すのでしょうか？簡単にいうと、あるラベルがついたインプットが来た時、そのラベルを判別するアウトプットノードが他のノードに比べて大きな値を出力できるような重みを計算するのが最適化にあたります。\n",
        "\n",
        "この数字判別の例だと、仮に１を表すインプットが与えられた時、１を判別するアウトプットノードが一番大きい値を出力するような重みを計算しなければなりません。もう少し詳しくいうと、１という数字のイメージに相関があるピクセルに高い重みを与えればいいのです。そうすれば、インプットと重みのドット積も大きな値を出します。\n",
        "\n",
        "従って、重みを視覚化すると数字がぼんやりと見えます。下の図は数字の３を判別するアウトプットノードと全てのインプットのエッジの間の重みを視覚化したものです。 赤いとこほど、大きな重みを持っています。\n",
        "\n",
        "ニューラルネットワークでの学習は重みを最適化することです。あるインプットに紐づいている重みが少ないということは、それほど重要ではないということです。下の図は、そういった意味ではニューラルネットワークが重要だと学習したピクセルの位置を示していると言えます。\n",
        "\n"
      ],
      "metadata": {
        "id": "Q_XyJliK3ss1"
      }
    },
    {
      "cell_type": "code",
      "execution_count": 91,
      "metadata": {
        "id": "RvhoDv9dvTy-",
        "outputId": "f5001206-da4a-4372-e78b-d204793dd8dd",
        "colab": {
          "base_uri": "https://localhost:8080/",
          "height": 282
        }
      },
      "outputs": [
        {
          "output_type": "execute_result",
          "data": {
            "text/plain": [
              "<matplotlib.image.AxesImage at 0x7ff77e8492d0>"
            ]
          },
          "metadata": {},
          "execution_count": 91
        },
        {
          "output_type": "display_data",
          "data": {
            "text/plain": [
              "<Figure size 432x288 with 1 Axes>"
            ],
            "image/png": "[encoded data removed]"
          },
          "metadata": {
            "needs_background": "light"
          }
        }
      ],
      "source": [
        "#３のアウトプットノードに関連する重みを全部について、２８＊２８の2-Dに変換\n",
        "plt.imshow(np.reshape(keras_clf.get_weights()[0][:,3],(28,28)),cmap=\"seismic\")"
      ]
    }
  ],
  "metadata": {
    "kernelspec": {
      "display_name": "Python 3",
      "language": "python",
      "name": "python3"
    },
    "language_info": {
      "codemirror_mode": {
        "name": "ipython",
        "version": 3
      },
      "file_extension": ".py",
      "mimetype": "text/x-python",
      "name": "python",
      "nbconvert_exporter": "python",
      "pygments_lexer": "ipython3",
      "version": "3.8.5"
    },
    "colab": {
      "name": "Deep_learning_material_tempate.ipynb",
      "provenance": [],
      "collapsed_sections": [],
      "include_colab_link": true
    }
  },
  "nbformat": 4,
  "nbformat_minor": 0
}