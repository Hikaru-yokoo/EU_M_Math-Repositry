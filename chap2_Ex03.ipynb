{
  "nbformat": 4,
  "nbformat_minor": 0,
  "metadata": {
    "colab": {
      "name": "chap2_Ex03.ipynb",
      "provenance": [],
      "authorship_tag": "ABX9TyMFMX4eVr6/+2XuqXUyo9y9",
      "include_colab_link": true
    },
    "kernelspec": {
      "name": "python3",
      "display_name": "Python 3"
    },
    "language_info": {
      "name": "python"
    }
  },
  "cells": [
    {
      "cell_type": "markdown",
      "metadata": {
        "id": "view-in-github",
        "colab_type": "text"
      },
      "source": [
        "<a href=\"https://colab.research.google.com/github/Hikaru-yokoo/EU_M_Math-Repositry/blob/main/chap2_Ex03.ipynb\" target=\"_parent\"><img src=\"https://colab.research.google.com/assets/colab-badge.svg\" alt=\"Open In Colab\"/></a>"
      ]
    },
    {
      "cell_type": "code",
      "execution_count": 7,
      "metadata": {
        "colab": {
          "base_uri": "https://localhost:8080/"
        },
        "id": "dePdKREiNVPM",
        "outputId": "e07026ae-06eb-4bad-ca25-6c84ae681e11"
      },
      "outputs": [
        {
          "output_type": "stream",
          "name": "stdout",
          "text": [
            "[[3 3 3 3 3]\n",
            " [3 3 3 3 3]\n",
            " [3 3 3 3 3]\n",
            " [3 3 3 3 3]\n",
            " [3 3 3 3 3]]\n",
            "[[45 45 45 45 45]\n",
            " [45 45 45 45 45]\n",
            " [45 45 45 45 45]\n",
            " [45 45 45 45 45]\n",
            " [45 45 45 45 45]]\n"
          ]
        }
      ],
      "source": [
        "#要素がすべて3の5行5列の行列を作成、それを2乗する計算をする。\n",
        "import numpy as np\n",
        "data  = [3,3,3,3,3]\n",
        "list_data =np.matrix([data,data,data,data,data])\n",
        "print(list_data) \n",
        "\n",
        "ans = list_data * list_data\n",
        "print(ans)"
      ]
    }
  ]
}