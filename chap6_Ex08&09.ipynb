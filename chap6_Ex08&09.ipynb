{
  "nbformat": 4,
  "nbformat_minor": 0,
  "metadata": {
    "colab": {
      "name": "chap6_Ex08&09.ipynb",
      "provenance": [],
      "authorship_tag": "ABX9TyOc2md/p1fbV5RB7bXCDQyF",
      "include_colab_link": true
    },
    "kernelspec": {
      "name": "python3",
      "display_name": "Python 3"
    },
    "language_info": {
      "name": "python"
    }
  },
  "cells": [
    {
      "cell_type": "markdown",
      "metadata": {
        "id": "view-in-github",
        "colab_type": "text"
      },
      "source": [
        "<a href=\"https://colab.research.google.com/github/Hikaru-yokoo/EU_M_Math-Repositry/blob/main/chap6_Ex08%2609.ipynb\" target=\"_parent\"><img src=\"https://colab.research.google.com/assets/colab-badge.svg\" alt=\"Open In Colab\"/></a>"
      ]
    },
    {
      "cell_type": "code",
      "execution_count": null,
      "metadata": {
        "id": "uYW3Z3m6VfVb"
      },
      "outputs": [],
      "source": [
        "import numpy as np\n",
        "import numpy.random as random\n",
        "import scipy as sp\n",
        "import pandas as pd\n",
        "from pandas import Series,DataFrame\n",
        "import matplotlib.pyplot as plt\n",
        "import matplotlib as mpl\n",
        "import seaborn as sns"
      ]
    },
    {
      "cell_type": "code",
      "source": [
        "# データがあるディレクトリに、カレントディレクトリを移動してください\n",
        "import requests, zipfile\n",
        "from io import StringIO\n",
        "import io\n",
        "import numpy as np\n",
        "\n",
        "url = \"https://archive.ics.uci.edu/ml/machine-learning-databases/00356/student.zip\"\n",
        "\n",
        "r = requests.get(url, stream=True)\n",
        "\n",
        "z = zipfile.ZipFile(io.BytesIO(r.content))\n",
        "z.extractall()\n",
        "\n",
        "student_data_math = pd.read_csv('student-mat.csv',sep=';')\n",
        "\n",
        "#print(student_data_math['age'].map(lambda x: x*2))\n",
        "absences_bins = [0,1,5,100]\n",
        "\n",
        "student_data_math_cut_data = pd.cut(student_data_math.absences, absences_bins,right=False)\n",
        "pd.value_counts(student_data_math_cut_data)"
      ],
      "metadata": {
        "id": "cAApaD6NVjK4",
        "colab": {
          "base_uri": "https://localhost:8080/"
        },
        "outputId": "f5479c62-1f0e-4d0f-a60c-8a73b52175da"
      },
      "execution_count": 27,
      "outputs": [
        {
          "output_type": "execute_result",
          "data": {
            "text/plain": [
              "[5, 100)    151\n",
              "[1, 5)      129\n",
              "[0, 1)      115\n",
              "Name: absences, dtype: int64"
            ]
          },
          "metadata": {},
          "execution_count": 27
        }
      ]
    },
    {
      "cell_type": "code",
      "source": [
        "student_data_math_qcut_data = pd.qcut(student_data_math.absences, 3)\n",
        "pd.value_counts(student_data_math_qcut_data)\n"
      ],
      "metadata": {
        "colab": {
          "base_uri": "https://localhost:8080/"
        },
        "id": "f4dUb8j6bhNj",
        "outputId": "0e0c9d92-4258-4994-e26c-05b71686da5b"
      },
      "execution_count": 33,
      "outputs": [
        {
          "output_type": "execute_result",
          "data": {
            "text/plain": [
              "(-0.001, 2.0]    183\n",
              "(6.0, 75.0]      115\n",
              "(2.0, 6.0]        97\n",
              "Name: absences, dtype: int64"
            ]
          },
          "metadata": {},
          "execution_count": 33
        }
      ]
    }
  ]
}