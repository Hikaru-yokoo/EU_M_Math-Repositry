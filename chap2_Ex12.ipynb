{
  "nbformat": 4,
  "nbformat_minor": 0,
  "metadata": {
    "colab": {
      "name": "chap2_Ex12.ipynb",
      "provenance": [],
      "authorship_tag": "ABX9TyPOD+5Br/uuXhPAedpdmpwJ",
      "include_colab_link": true
    },
    "kernelspec": {
      "name": "python3",
      "display_name": "Python 3"
    },
    "language_info": {
      "name": "python"
    }
  },
  "cells": [
    {
      "cell_type": "markdown",
      "metadata": {
        "id": "view-in-github",
        "colab_type": "text"
      },
      "source": [
        "<a href=\"https://colab.research.google.com/github/Hikaru-yokoo/EU_M_Math-Repositry/blob/main/chap2_Ex12.ipynb\" target=\"_parent\"><img src=\"https://colab.research.google.com/assets/colab-badge.svg\" alt=\"Open In Colab\"/></a>"
      ]
    },
    {
      "cell_type": "code",
      "execution_count": 3,
      "metadata": {
        "colab": {
          "base_uri": "https://localhost:8080/",
          "height": 265
        },
        "id": "su3v_re0Wq2G",
        "outputId": "940185cd-4e8b-4fb0-bc9f-9573589775fa"
      },
      "outputs": [
        {
          "output_type": "display_data",
          "data": {
            "text/plain": [
              "<Figure size 432x288 with 2 Axes>"
            ],
            "image/png": "[encoded data removed]"
          },
          "metadata": {
            "needs_background": "light"
          }
        }
      ],
      "source": [
        "#0～1を取る一様の乱数を1000個、2組発生させ、それぞれのヒストグラムを描く。\n",
        "\n",
        "import numpy as np\n",
        "import matplotlib.pyplot as plt\n",
        "\n",
        "\n",
        "x = np.random.uniform(0.0, 1.0, 1000)\n",
        "y = np.random.uniform(0.0, 1.0, 1000)\n",
        "\n",
        "plt.subplot(2,1,1)\n",
        "plt.hist(x)\n",
        "plt.grid(True)\n",
        "\n",
        "plt.subplot(2,1,2)\n",
        "plt.hist(y)\n",
        "\n",
        "plt.grid(True)\n",
        "\n"
      ]
    }
  ]
}