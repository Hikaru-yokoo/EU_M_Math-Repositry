{
  "nbformat": 4,
  "nbformat_minor": 0,
  "metadata": {
    "colab": {
      "name": "chap3_Ex06.ipynb",
      "provenance": [],
      "authorship_tag": "ABX9TyPCvszrxhwBhqAFCU2hk2RW",
      "include_colab_link": true
    },
    "kernelspec": {
      "name": "python3",
      "display_name": "Python 3"
    },
    "language_info": {
      "name": "python"
    }
  },
  "cells": [
    {
      "cell_type": "markdown",
      "metadata": {
        "id": "view-in-github",
        "colab_type": "text"
      },
      "source": [
        "<a href=\"https://colab.research.google.com/github/Hikaru-yokoo/EU_M_Math-Repositry/blob/main/chap3_Ex06.ipynb\" target=\"_parent\"><img src=\"https://colab.research.google.com/assets/colab-badge.svg\" alt=\"Open In Colab\"/></a>"
      ]
    },
    {
      "cell_type": "code",
      "execution_count": 1,
      "metadata": {
        "id": "nc6Q-o5qEbC3",
        "outputId": "409fcab6-46f0-4645-93f3-a5d04fe403ee",
        "colab": {
          "base_uri": "https://localhost:8080/",
          "height": 331
        }
      },
      "outputs": [
        {
          "output_type": "stream",
          "name": "stdout",
          "text": [
            "回帰係数： [[-0.06361337]]\n",
            "切片： [12.13880086]\n",
            "決定係数： 0.008350131955637385\n"
          ]
        },
        {
          "output_type": "display_data",
          "data": {
            "text/plain": [
              "<Figure size 432x288 with 1 Axes>"
            ],
            "image/png": "[encoded data removed]"
          },
          "metadata": {
            "needs_background": "light"
          }
        }
      ],
      "source": [
        "#student_data_porのデータを使ってG3を目的変数、absencesを説明変数として単回帰分析し、回帰分析、切片、決定係数を求める\n",
        "#散布図と回帰直線をプロットする\n",
        "import requests, zipfile\n",
        "from io import StringIO\n",
        "import io\n",
        "import numpy as np\n",
        "import pandas as pd\n",
        "import matplotlib.pyplot as plt\n",
        "import seaborn as sns\n",
        "\n",
        "\n",
        "\n",
        "url = \"https://archive.ics.uci.edu/ml/machine-learning-databases/00356/student.zip\"\n",
        "\n",
        "r = requests.get(url, stream=True)\n",
        "\n",
        "z = zipfile.ZipFile(io.BytesIO(r.content))\n",
        "z.extractall()\n",
        "\n",
        "student_data_por = pd.read_csv(\"student-por.csv\", sep = \";\")\n",
        "\n",
        "plt.plot(student_data_por[\"absences\"], student_data_por[\"G3\"], \"o\")\n",
        "plt.xlabel(\"absences\")\n",
        "plt.ylabel(\"G3 grade\")\n",
        "plt.grid()\n",
        "\n",
        "from sklearn  import linear_model\n",
        "\n",
        "#線形回帰のインスタンスを生成\n",
        "reg = linear_model.LinearRegression()\n",
        "\n",
        "X = student_data_por.loc[:, [\"absences\"]].values\n",
        "Y = student_data_por.loc[:, [\"G3\"]].values\n",
        "\n",
        "reg.fit(X, Y)\n",
        "\n",
        "print(\"回帰係数：\",reg.coef_)\n",
        "\n",
        "print(\"切片：\",reg.intercept_)\n",
        "\n",
        "plt.scatter(X, Y)\n",
        "plt.xlabel(\"absences\")\n",
        "plt.ylabel(\"G3 grade\")\n",
        "\n",
        "plt.plot(X, reg.predict(X))\n",
        "plt.grid(True)\n",
        "print(\"決定係数：\", reg.score(X, Y))"
      ]
    }
  ]
}