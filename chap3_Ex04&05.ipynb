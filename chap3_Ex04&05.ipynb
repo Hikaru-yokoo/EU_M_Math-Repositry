{
  "nbformat": 4,
  "nbformat_minor": 0,
  "metadata": {
    "colab": {
      "name": "chap3_Ex04&05.ipynb",
      "provenance": [],
      "authorship_tag": "ABX9TyOXJVylqFTE9FMsIQuKkajk",
      "include_colab_link": true
    },
    "kernelspec": {
      "name": "python3",
      "display_name": "Python 3"
    },
    "language_info": {
      "name": "python"
    }
  },
  "cells": [
    {
      "cell_type": "markdown",
      "metadata": {
        "id": "view-in-github",
        "colab_type": "text"
      },
      "source": [
        "<a href=\"https://colab.research.google.com/github/Hikaru-yokoo/EU_M_Math-Repositry/blob/main/chap3_Ex04%2605.ipynb\" target=\"_parent\"><img src=\"https://colab.research.google.com/assets/colab-badge.svg\" alt=\"Open In Colab\"/></a>"
      ]
    },
    {
      "cell_type": "code",
      "execution_count": 1,
      "metadata": {
        "colab": {
          "base_uri": "https://localhost:8080/",
          "height": 333
        },
        "id": "val0-uEMCksj",
        "outputId": "d3a38a8b-9e8f-46af-90ef-2b1dad228ef8"
      },
      "outputs": [
        {
          "output_type": "stream",
          "name": "stdout",
          "text": [
            "回帰係数： [[0.97250087]]\n",
            "切片： [0.82039841]\n",
            "決定係数： 0.6829156800171083\n"
          ]
        },
        {
          "output_type": "display_data",
          "data": {
            "text/plain": [
              "<Figure size 432x288 with 1 Axes>"
            ],
            "image/png": "[encoded data removed]"
          },
          "metadata": {
            "needs_background": "light"
          }
        }
      ],
      "source": [
        "#student_data_porを使ってG3を目的変数、G1を説明変数として単回帰分析し、回帰係数、切片、決定係数を求める\n",
        "import requests, zipfile\n",
        "from io import StringIO\n",
        "import io\n",
        "import numpy as np\n",
        "import pandas as pd\n",
        "import matplotlib.pyplot as plt\n",
        "import seaborn as sns\n",
        "\n",
        "\n",
        "\n",
        "url = \"https://archive.ics.uci.edu/ml/machine-learning-databases/00356/student.zip\"\n",
        "\n",
        "r = requests.get(url, stream=True)\n",
        "\n",
        "z = zipfile.ZipFile(io.BytesIO(r.content))\n",
        "z.extractall()\n",
        "\n",
        "student_data_por = pd.read_csv(\"student-por.csv\", sep = \";\")\n",
        "\n",
        "plt.plot(student_data_por[\"G1\"], student_data_por[\"G3\"], \"o\")\n",
        "plt.xlabel(\"G1 grade\")\n",
        "plt.ylabel(\"G3 grade\")\n",
        "plt.grid()\n",
        "\n",
        "from sklearn  import linear_model\n",
        "\n",
        "#線形回帰のインスタンスを生成\n",
        "reg = linear_model.LinearRegression()\n",
        "\n",
        "X = student_data_por.loc[:, [\"G1\"]].values\n",
        "Y = student_data_por.loc[:, [\"G3\"]].values\n",
        "\n",
        "reg.fit(X, Y)\n",
        "\n",
        "print(\"回帰係数：\",reg.coef_)\n",
        "\n",
        "print(\"切片：\",reg.intercept_)\n",
        "\n",
        "plt.scatter(X, Y)\n",
        "plt.xlabel(\"G1 grade\")\n",
        "plt.ylabel(\"G3 grade\")\n",
        "\n",
        "plt.plot(X, reg.predict(X))\n",
        "plt.grid(True)\n",
        "print(\"決定係数：\", reg.score(X, Y))\n"
      ]
    }
  ]
}