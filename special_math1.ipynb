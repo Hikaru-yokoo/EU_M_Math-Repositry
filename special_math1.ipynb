{
  "nbformat": 4,
  "nbformat_minor": 0,
  "metadata": {
    "colab": {
      "name": "special math1.ipynb",
      "provenance": [],
      "collapsed_sections": [],
      "authorship_tag": "ABX9TyOFKW3OUhM231EiWtsCzglX",
      "include_colab_link": true
    },
    "kernelspec": {
      "name": "python3",
      "display_name": "Python 3"
    },
    "language_info": {
      "name": "python"
    }
  },
  "cells": [
    {
      "cell_type": "markdown",
      "metadata": {
        "id": "view-in-github",
        "colab_type": "text"
      },
      "source": [
        "<a href=\"https://colab.research.google.com/github/Hikaru-yokoo/EU_M_Math-Repositry/blob/main/special_math1.ipynb\" target=\"_parent\"><img src=\"https://colab.research.google.com/assets/colab-badge.svg\" alt=\"Open In Colab\"/></a>"
      ]
    },
    {
      "cell_type": "code",
      "source": [
        "print(\"Hello World!\")"
      ],
      "metadata": {
        "colab": {
          "base_uri": "https://localhost:8080/"
        },
        "id": "q7MPnwA5j0ke",
        "outputId": "fa95372a-6143-4150-d438-f7d1004f064e"
      },
      "execution_count": null,
      "outputs": [
        {
          "output_type": "stream",
          "name": "stdout",
          "text": [
            "Hello World!\n"
          ]
        }
      ]
    },
    {
      "cell_type": "code",
      "execution_count": null,
      "metadata": {
        "colab": {
          "base_uri": "https://localhost:8080/"
        },
        "id": "GioUyzaQDQM3",
        "outputId": "94911b30-5507-410d-edc4-c890fb2b1259"
      },
      "outputs": [
        {
          "output_type": "stream",
          "name": "stdout",
          "text": [
            "2\n",
            "10\n",
            "1000\n"
          ]
        }
      ],
      "source": [
        "#足し算の例\n",
        "print(1+ 1)\n",
        "#掛け算の例\n",
        "print(2*5)\n",
        "#10の3乗、べき乗は**を使う\n",
        "print(10**3)"
      ]
    },
    {
      "cell_type": "code",
      "source": [
        "msg  =\"test\"\n",
        "print(msg)"
      ],
      "metadata": {
        "colab": {
          "base_uri": "https://localhost:8080/"
        },
        "id": "oW-5m6pjkNtf",
        "outputId": "d15c5b16-e8fa-489c-a077-41ce9eab4fd8"
      },
      "execution_count": null,
      "outputs": [
        {
          "output_type": "stream",
          "name": "stdout",
          "text": [
            "test\n"
          ]
        }
      ]
    },
    {
      "cell_type": "code",
      "source": [
        "#インデックス0から始まるので1文字目が取りだされる。\n",
        "msg[0]\n"
      ],
      "metadata": {
        "colab": {
          "base_uri": "https://localhost:8080/",
          "height": 35
        },
        "id": "UD4U7jTNE6wV",
        "outputId": "c43926a5-3361-4d66-8d67-2ea6fa28c173"
      },
      "execution_count": null,
      "outputs": [
        {
          "output_type": "execute_result",
          "data": {
            "text/plain": [
              "'t'"
            ],
            "application/vnd.google.colaboratory.intrinsic+json": {
              "type": "string"
            }
          },
          "metadata": {},
          "execution_count": 5
        }
      ]
    },
    {
      "cell_type": "code",
      "source": [
        "data = 1\n",
        "print(data)\n",
        "data = data + 1\n",
        "print(data)\n"
      ],
      "metadata": {
        "colab": {
          "base_uri": "https://localhost:8080/"
        },
        "id": "Vfpmo4TRFNKV",
        "outputId": "dbe16f6e-02a3-4d3b-92b9-73def770f7ab"
      },
      "execution_count": null,
      "outputs": [
        {
          "output_type": "stream",
          "name": "stdout",
          "text": [
            "1\n",
            "2\n"
          ]
        }
      ]
    },
    {
      "cell_type": "code",
      "source": [
        "__import__(\"keyword\").kwlist"
      ],
      "metadata": {
        "colab": {
          "base_uri": "https://localhost:8080/"
        },
        "id": "n2D-tTMiFWlo",
        "outputId": "2b44a051-e5aa-48d0-f540-d6860b3cc6c5"
      },
      "execution_count": null,
      "outputs": [
        {
          "output_type": "execute_result",
          "data": {
            "text/plain": [
              "['False',\n",
              " 'None',\n",
              " 'True',\n",
              " 'and',\n",
              " 'as',\n",
              " 'assert',\n",
              " 'async',\n",
              " 'await',\n",
              " 'break',\n",
              " 'class',\n",
              " 'continue',\n",
              " 'def',\n",
              " 'del',\n",
              " 'elif',\n",
              " 'else',\n",
              " 'except',\n",
              " 'finally',\n",
              " 'for',\n",
              " 'from',\n",
              " 'global',\n",
              " 'if',\n",
              " 'import',\n",
              " 'in',\n",
              " 'is',\n",
              " 'lambda',\n",
              " 'nonlocal',\n",
              " 'not',\n",
              " 'or',\n",
              " 'pass',\n",
              " 'raise',\n",
              " 'return',\n",
              " 'try',\n",
              " 'while',\n",
              " 'with',\n",
              " 'yield']"
            ]
          },
          "metadata": {},
          "execution_count": 7
        }
      ]
    },
    {
      "cell_type": "code",
      "source": [
        "dir(__builtins__)"
      ],
      "metadata": {
        "colab": {
          "base_uri": "https://localhost:8080/"
        },
        "id": "HlxvkdeNFg-G",
        "outputId": "403e8a50-c6b5-4b91-d687-a2f5069ba789"
      },
      "execution_count": null,
      "outputs": [
        {
          "output_type": "execute_result",
          "data": {
            "text/plain": [
              "['ArithmeticError',\n",
              " 'AssertionError',\n",
              " 'AttributeError',\n",
              " 'BaseException',\n",
              " 'BlockingIOError',\n",
              " 'BrokenPipeError',\n",
              " 'BufferError',\n",
              " 'BytesWarning',\n",
              " 'ChildProcessError',\n",
              " 'ConnectionAbortedError',\n",
              " 'ConnectionError',\n",
              " 'ConnectionRefusedError',\n",
              " 'ConnectionResetError',\n",
              " 'DeprecationWarning',\n",
              " 'EOFError',\n",
              " 'Ellipsis',\n",
              " 'EnvironmentError',\n",
              " 'Exception',\n",
              " 'False',\n",
              " 'FileExistsError',\n",
              " 'FileNotFoundError',\n",
              " 'FloatingPointError',\n",
              " 'FutureWarning',\n",
              " 'GeneratorExit',\n",
              " 'IOError',\n",
              " 'ImportError',\n",
              " 'ImportWarning',\n",
              " 'IndentationError',\n",
              " 'IndexError',\n",
              " 'InterruptedError',\n",
              " 'IsADirectoryError',\n",
              " 'KeyError',\n",
              " 'KeyboardInterrupt',\n",
              " 'LookupError',\n",
              " 'MemoryError',\n",
              " 'ModuleNotFoundError',\n",
              " 'NameError',\n",
              " 'None',\n",
              " 'NotADirectoryError',\n",
              " 'NotImplemented',\n",
              " 'NotImplementedError',\n",
              " 'OSError',\n",
              " 'OverflowError',\n",
              " 'PendingDeprecationWarning',\n",
              " 'PermissionError',\n",
              " 'ProcessLookupError',\n",
              " 'RecursionError',\n",
              " 'ReferenceError',\n",
              " 'ResourceWarning',\n",
              " 'RuntimeError',\n",
              " 'RuntimeWarning',\n",
              " 'StopAsyncIteration',\n",
              " 'StopIteration',\n",
              " 'SyntaxError',\n",
              " 'SyntaxWarning',\n",
              " 'SystemError',\n",
              " 'SystemExit',\n",
              " 'TabError',\n",
              " 'TimeoutError',\n",
              " 'True',\n",
              " 'TypeError',\n",
              " 'UnboundLocalError',\n",
              " 'UnicodeDecodeError',\n",
              " 'UnicodeEncodeError',\n",
              " 'UnicodeError',\n",
              " 'UnicodeTranslateError',\n",
              " 'UnicodeWarning',\n",
              " 'UserWarning',\n",
              " 'ValueError',\n",
              " 'Warning',\n",
              " 'ZeroDivisionError',\n",
              " '__IPYTHON__',\n",
              " '__build_class__',\n",
              " '__debug__',\n",
              " '__doc__',\n",
              " '__import__',\n",
              " '__loader__',\n",
              " '__name__',\n",
              " '__package__',\n",
              " '__spec__',\n",
              " 'abs',\n",
              " 'all',\n",
              " 'any',\n",
              " 'ascii',\n",
              " 'bin',\n",
              " 'bool',\n",
              " 'breakpoint',\n",
              " 'bytearray',\n",
              " 'bytes',\n",
              " 'callable',\n",
              " 'chr',\n",
              " 'classmethod',\n",
              " 'compile',\n",
              " 'complex',\n",
              " 'copyright',\n",
              " 'credits',\n",
              " 'delattr',\n",
              " 'dict',\n",
              " 'dir',\n",
              " 'display',\n",
              " 'divmod',\n",
              " 'dreload',\n",
              " 'enumerate',\n",
              " 'eval',\n",
              " 'exec',\n",
              " 'execfile',\n",
              " 'filter',\n",
              " 'float',\n",
              " 'format',\n",
              " 'frozenset',\n",
              " 'get_ipython',\n",
              " 'getattr',\n",
              " 'globals',\n",
              " 'hasattr',\n",
              " 'hash',\n",
              " 'help',\n",
              " 'hex',\n",
              " 'id',\n",
              " 'input',\n",
              " 'int',\n",
              " 'isinstance',\n",
              " 'issubclass',\n",
              " 'iter',\n",
              " 'len',\n",
              " 'license',\n",
              " 'list',\n",
              " 'locals',\n",
              " 'map',\n",
              " 'max',\n",
              " 'memoryview',\n",
              " 'min',\n",
              " 'next',\n",
              " 'object',\n",
              " 'oct',\n",
              " 'open',\n",
              " 'ord',\n",
              " 'pow',\n",
              " 'print',\n",
              " 'property',\n",
              " 'range',\n",
              " 'repr',\n",
              " 'reversed',\n",
              " 'round',\n",
              " 'runfile',\n",
              " 'set',\n",
              " 'setattr',\n",
              " 'slice',\n",
              " 'sorted',\n",
              " 'staticmethod',\n",
              " 'str',\n",
              " 'sum',\n",
              " 'super',\n",
              " 'tuple',\n",
              " 'type',\n",
              " 'vars',\n",
              " 'zip']"
            ]
          },
          "metadata": {},
          "execution_count": 8
        }
      ]
    },
    {
      "cell_type": "code",
      "source": [
        "data_list = [1,2,3,4,5,6,7,8,9,10]\n",
        "print(data_list)\n",
        "\n",
        "print(\"変数のタイプ:\",type(data_list))\n",
        "\n",
        "print(\"2番目の数:\",data_list[1])\n",
        "\n",
        "print(\"要素数:\",len(data_list))"
      ],
      "metadata": {
        "colab": {
          "base_uri": "https://localhost:8080/"
        },
        "id": "wabj2FBMFrV4",
        "outputId": "477a64f8-465f-4186-cd7b-2a08f13cd306"
      },
      "execution_count": null,
      "outputs": [
        {
          "output_type": "stream",
          "name": "stdout",
          "text": [
            "[1, 2, 3, 4, 5, 6, 7, 8, 9, 10]\n",
            "変数のタイプ: <class 'list'>\n",
            "2番目の数: 2\n",
            "要素数: 10\n"
          ]
        }
      ]
    },
    {
      "cell_type": "code",
      "source": [
        "data_list * 2"
      ],
      "metadata": {
        "colab": {
          "base_uri": "https://localhost:8080/"
        },
        "id": "n98W0hUHGXht",
        "outputId": "06ff08c4-f65b-432f-af83-14dea88d1fed"
      },
      "execution_count": null,
      "outputs": [
        {
          "output_type": "execute_result",
          "data": {
            "text/plain": [
              "[1, 2, 3, 4, 5, 6, 7, 8, 9, 10, 1, 2, 3, 4, 5, 6, 7, 8, 9, 10]"
            ]
          },
          "metadata": {},
          "execution_count": 10
        }
      ]
    },
    {
      "cell_type": "code",
      "source": [
        "dic_data = {\"apple\":100, \"banana\":100, \"orange\":300, \"mango\":400, \"melon\":500}\n",
        "print(dic_data[\"melon\"])\n"
      ],
      "metadata": {
        "colab": {
          "base_uri": "https://localhost:8080/"
        },
        "id": "oWVdFr8tGZTM",
        "outputId": "6a6afd25-f05b-4366-9fff-ae4f7deaafc8"
      },
      "execution_count": null,
      "outputs": [
        {
          "output_type": "stream",
          "name": "stdout",
          "text": [
            "500\n"
          ]
        }
      ]
    },
    {
      "cell_type": "code",
      "source": [
        "findvalue = 5\n",
        "\n",
        "if findvalue in data_list:\n",
        "  print(\"{0}は入っています。\".format(findvalue))\n",
        "else:\n",
        "  print(\"{0}は入っていません。\".format(findvalue))\n"
      ],
      "metadata": {
        "colab": {
          "base_uri": "https://localhost:8080/"
        },
        "id": "sSdBHTNpHwvi",
        "outputId": "77e65ea9-3bc8-4e0b-c91b-df452be7d464"
      },
      "execution_count": null,
      "outputs": [
        {
          "output_type": "stream",
          "name": "stdout",
          "text": [
            "5は入っています。\n"
          ]
        }
      ]
    },
    {
      "cell_type": "code",
      "source": [
        "print(\"{0}と{1}を足すと{2}です\".format(2,3,5))\n"
      ],
      "metadata": {
        "colab": {
          "base_uri": "https://localhost:8080/"
        },
        "id": "AtsJ5TTXIz6L",
        "outputId": "8d3ea0d5-da2d-4690-843a-936b6bd188ce"
      },
      "execution_count": null,
      "outputs": [
        {
          "output_type": "stream",
          "name": "stdout",
          "text": [
            "2と3を足すと5です\n"
          ]
        }
      ]
    },
    {
      "cell_type": "code",
      "source": [
        "total = 0\n",
        "for num in [1,2,3]:\n",
        "    print(\"num:\",num)\n",
        "    total = total + num\n",
        "\n",
        "print(\"total:\",total)"
      ],
      "metadata": {
        "colab": {
          "base_uri": "https://localhost:8080/"
        },
        "id": "SvJrdA0TI9mB",
        "outputId": "5753e2e1-78f1-4cae-a322-b3245ea6250f"
      },
      "execution_count": null,
      "outputs": [
        {
          "output_type": "stream",
          "name": "stdout",
          "text": [
            "num: 1\n",
            "num: 2\n",
            "num: 3\n",
            "total: 6\n"
          ]
        }
      ]
    },
    {
      "cell_type": "code",
      "source": [
        "for dic_key in dic_data:\n",
        "  print(dic_key,dic_data[dic_key])\n"
      ],
      "metadata": {
        "colab": {
          "base_uri": "https://localhost:8080/"
        },
        "id": "iZZw9yxsJlkP",
        "outputId": "4c2148bd-c299-450e-f958-b753048c5249"
      },
      "execution_count": null,
      "outputs": [
        {
          "output_type": "stream",
          "name": "stdout",
          "text": [
            "apple 100\n",
            "banana 100\n",
            "orange 300\n",
            "mango 400\n",
            "melon 500\n"
          ]
        }
      ]
    },
    {
      "cell_type": "code",
      "source": [
        "1 == 1\n"
      ],
      "metadata": {
        "colab": {
          "base_uri": "https://localhost:8080/"
        },
        "id": "Zt_XZ9YdkjR6",
        "outputId": "ac2d0f53-7b53-4a12-88c0-98cdd55dc62e"
      },
      "execution_count": null,
      "outputs": [
        {
          "output_type": "execute_result",
          "data": {
            "text/plain": [
              "True"
            ]
          },
          "metadata": {},
          "execution_count": 16
        }
      ]
    },
    {
      "cell_type": "code",
      "source": [
        "findvalue = 5\n",
        "#if文の開始\n",
        "if findvalue in data_list:\n",
        "    #条件式の結果が真の場合\n",
        "    print(\"{0}は入っています。\".format(findvalue))\n",
        "else:\n",
        "    #条件式の結果が偽の場合\n",
        "    print(\"{0}は入っていません。\".format(findvalue))\n"
      ],
      "metadata": {
        "colab": {
          "base_uri": "https://localhost:8080/"
        },
        "id": "UAcH0hEVkk6D",
        "outputId": "b79c1c16-e733-4d69-a6ff-35e0a0513cc6"
      },
      "execution_count": null,
      "outputs": [
        {
          "output_type": "stream",
          "name": "stdout",
          "text": [
            "5は入っています。\n"
          ]
        }
      ]
    },
    {
      "cell_type": "code",
      "source": [
        "print(\"{0}と{1}を足すと{2}です\".format(2,3,5))"
      ],
      "metadata": {
        "colab": {
          "base_uri": "https://localhost:8080/"
        },
        "id": "dc4DWVMLllTI",
        "outputId": "4556fd91-3f91-4d49-9e3f-bf4ae98d3785"
      },
      "execution_count": null,
      "outputs": [
        {
          "output_type": "stream",
          "name": "stdout",
          "text": [
            "2と3を足すと5です\n"
          ]
        }
      ]
    },
    {
      "cell_type": "code",
      "source": [
        "#初期値の設定\n",
        "total = 0\n",
        "\n",
        "#for文\n",
        "for num in [1,2,3]:\n",
        "    #取り出した数の表示\n",
        "    print(\"num:\",num)\n",
        "    #今まで取り出した数の合計\n",
        "    total = total + num\n",
        "\n",
        "#最後に合計を表示\n",
        "print(\"total:\",total)\n"
      ],
      "metadata": {
        "colab": {
          "base_uri": "https://localhost:8080/"
        },
        "id": "HMCz1z8Ql4mt",
        "outputId": "1f022f87-99ec-410b-c5ba-4e5cf2e6ce15"
      },
      "execution_count": null,
      "outputs": [
        {
          "output_type": "stream",
          "name": "stdout",
          "text": [
            "num: 1\n",
            "num: 2\n",
            "num: 3\n",
            "total: 6\n"
          ]
        }
      ]
    },
    {
      "cell_type": "code",
      "source": [
        "for dic_key in dic_data:\n",
        "    print(dic_key,dic_data[dic_key])"
      ],
      "metadata": {
        "colab": {
          "base_uri": "https://localhost:8080/"
        },
        "id": "qezQsS9omZWd",
        "outputId": "b305e1d9-bba6-4772-f5f4-87f19646e19d"
      },
      "execution_count": null,
      "outputs": [
        {
          "output_type": "stream",
          "name": "stdout",
          "text": [
            "apple 100\n",
            "banana 100\n",
            "orange 300\n",
            "mango 400\n",
            "melon 500\n"
          ]
        }
      ]
    },
    {
      "cell_type": "code",
      "source": [
        "#range(N)としたとき0からN-1までの整数\n",
        "for i in range(11):\n",
        "    print(i)"
      ],
      "metadata": {
        "colab": {
          "base_uri": "https://localhost:8080/"
        },
        "id": "5F8jvu_wmm9G",
        "outputId": "b4e2b711-2af8-4c13-9760-e779fd7efb88"
      },
      "execution_count": null,
      "outputs": [
        {
          "output_type": "stream",
          "name": "stdout",
          "text": [
            "0\n",
            "1\n",
            "2\n",
            "3\n",
            "4\n",
            "5\n",
            "6\n",
            "7\n",
            "8\n",
            "9\n",
            "10\n"
          ]
        }
      ]
    },
    {
      "cell_type": "code",
      "source": [
        "#range(1,11,2)は1から開始して２つ飛ばしで、11の手前まで取り出す。\n",
        "for i in range(1,11,2):\n",
        "    print(i)\n",
        "    "
      ],
      "metadata": {
        "colab": {
          "base_uri": "https://localhost:8080/"
        },
        "id": "VjBCqcc1mx4v",
        "outputId": "a6684d68-4f62-42c5-b995-6744e6a3c1e6"
      },
      "execution_count": null,
      "outputs": [
        {
          "output_type": "stream",
          "name": "stdout",
          "text": [
            "1\n",
            "3\n",
            "5\n",
            "7\n",
            "9\n"
          ]
        }
      ]
    },
    {
      "cell_type": "code",
      "source": [
        "#キーと値を取り出して表示する\n",
        "for key, value in dic_data.items():\n",
        "    print(key,value)"
      ],
      "metadata": {
        "colab": {
          "base_uri": "https://localhost:8080/"
        },
        "id": "EYS6uYYInAx1",
        "outputId": "af8ba26a-1603-441c-f078-501ca6d005b8"
      },
      "execution_count": null,
      "outputs": [
        {
          "output_type": "stream",
          "name": "stdout",
          "text": [
            "apple 100\n",
            "banana 100\n",
            "orange 300\n",
            "mango 400\n",
            "melon 500\n"
          ]
        }
      ]
    },
    {
      "cell_type": "code",
      "source": [
        "#空のリストを作成\n",
        "data_list1 = []\n",
        "\n",
        "#内包表記、data_listから1つ1つ要素を取り出し、2倍した数字を新たな要素とするリストを作成\n",
        "data_list1 =[i * 2 for i in data_list]\n",
        "print(data_list1)\n"
      ],
      "metadata": {
        "colab": {
          "base_uri": "https://localhost:8080/"
        },
        "id": "t8-EE3lInNai",
        "outputId": "dd0de1a9-e291-4049-f90b-4ea5ed56a065"
      },
      "execution_count": null,
      "outputs": [
        {
          "output_type": "stream",
          "name": "stdout",
          "text": [
            "[2, 4, 6, 8, 10, 12, 14, 16, 18, 20]\n"
          ]
        }
      ]
    },
    {
      "cell_type": "code",
      "source": [
        "[i * 2 for i in data_list if i % 2 == 0]"
      ],
      "metadata": {
        "colab": {
          "base_uri": "https://localhost:8080/"
        },
        "id": "hB4ERmx2nn6_",
        "outputId": "be97e67c-0823-4375-e5eb-dfbb713ac61a"
      },
      "execution_count": null,
      "outputs": [
        {
          "output_type": "execute_result",
          "data": {
            "text/plain": [
              "[4, 8, 12, 16, 20]"
            ]
          },
          "metadata": {},
          "execution_count": 25
        }
      ]
    },
    {
      "cell_type": "code",
      "source": [
        "for one, two in zip([1,2,3],[11,12,13]):\n",
        "    print(one,\"と\",two)\n",
        "    "
      ],
      "metadata": {
        "colab": {
          "base_uri": "https://localhost:8080/"
        },
        "id": "0p-0Ovwoolyh",
        "outputId": "f808a0da-e14c-4ece-f28c-c8d8bd31dfee"
      },
      "execution_count": null,
      "outputs": [
        {
          "output_type": "stream",
          "name": "stdout",
          "text": [
            "1 と 11\n",
            "2 と 12\n",
            "3 と 13\n"
          ]
        }
      ]
    },
    {
      "cell_type": "code",
      "source": [
        "#初期値の設定\n",
        "num = 1\n",
        "\n",
        "#while文の開始\n",
        "while num <= 10:\n",
        "    print(num)\n",
        "    num = num + 1\n",
        "\n",
        "#while文の終わり\n",
        "\n",
        "#最後に代入された値を表示する。\n",
        "print(\"最後の値は{0}です\".format(num))"
      ],
      "metadata": {
        "colab": {
          "base_uri": "https://localhost:8080/"
        },
        "id": "ciI6MQYXoyE0",
        "outputId": "a7863a7a-d5ef-4cc1-96d0-ff0d9a2599ad"
      },
      "execution_count": null,
      "outputs": [
        {
          "output_type": "stream",
          "name": "stdout",
          "text": [
            "1\n",
            "2\n",
            "3\n",
            "4\n",
            "5\n",
            "6\n",
            "7\n",
            "8\n",
            "9\n",
            "10\n",
            "最後の値は11です\n"
          ]
        }
      ]
    },
    {
      "cell_type": "code",
      "source": [
        "#掛け算をする関数\n",
        "def calc_multi(a,b):\n",
        "    return a * b"
      ],
      "metadata": {
        "id": "6r1VHVQkpNcP"
      },
      "execution_count": null,
      "outputs": []
    },
    {
      "cell_type": "code",
      "source": [
        "calc_multi(3,10)"
      ],
      "metadata": {
        "colab": {
          "base_uri": "https://localhost:8080/"
        },
        "id": "cP-p32BUpV-V",
        "outputId": "090eb740-1d1c-4c44-e990-04e09ba9a412"
      },
      "execution_count": null,
      "outputs": [
        {
          "output_type": "execute_result",
          "data": {
            "text/plain": [
              "30"
            ]
          },
          "metadata": {},
          "execution_count": 29
        }
      ]
    },
    {
      "cell_type": "code",
      "source": [
        "def calc_print():\n",
        "    print(\"printのサンプル関数\")\n",
        "  \n",
        "calc_print()"
      ],
      "metadata": {
        "colab": {
          "base_uri": "https://localhost:8080/"
        },
        "id": "Wvln-_xppbdS",
        "outputId": "306cf1a4-11ac-40cc-ecbf-eb079cf1dc91"
      },
      "execution_count": null,
      "outputs": [
        {
          "output_type": "stream",
          "name": "stdout",
          "text": [
            "printのサンプル関数\n"
          ]
        }
      ]
    },
    {
      "cell_type": "code",
      "source": [
        "#再帰関数の例（フィボナッチ数）\n",
        "def calc_fib(n):\n",
        "    if n == 1 or n == 2:\n",
        "      return 1\n",
        "    else:\n",
        "      return calc_fib(n -1) + calc_fib(n -2)\n",
        "\n",
        "print(\"フィボナッチ数:\",calc_fib(10))"
      ],
      "metadata": {
        "colab": {
          "base_uri": "https://localhost:8080/"
        },
        "id": "bZSd-33apZS0",
        "outputId": "01f00538-3d03-4d49-bc4d-3f8b220f65d3"
      },
      "execution_count": null,
      "outputs": [
        {
          "output_type": "stream",
          "name": "stdout",
          "text": [
            "フィボナッチ数: 55\n"
          ]
        }
      ]
    },
    {
      "cell_type": "code",
      "source": [
        "#calc_multi関数を定義\n",
        "def calc_multi(a,b):\n",
        "    return a * b\n",
        "\n",
        "#それを実行\n",
        "calc_multi(3,10)\n"
      ],
      "metadata": {
        "colab": {
          "base_uri": "https://localhost:8080/"
        },
        "id": "4VkshPvjqUpi",
        "outputId": "4e30b0e5-dda7-4173-b6d1-c22e540ceb42"
      },
      "execution_count": null,
      "outputs": [
        {
          "output_type": "execute_result",
          "data": {
            "text/plain": [
              "30"
            ]
          },
          "metadata": {},
          "execution_count": 32
        }
      ]
    },
    {
      "cell_type": "code",
      "source": [
        "(lambda a,b : a * b)(3,10)"
      ],
      "metadata": {
        "colab": {
          "base_uri": "https://localhost:8080/"
        },
        "id": "e8w_W6Wkqx34",
        "outputId": "a54daf9f-c32e-47fd-c675-2bf1d49ff4ef"
      },
      "execution_count": null,
      "outputs": [
        {
          "output_type": "execute_result",
          "data": {
            "text/plain": [
              "30"
            ]
          },
          "metadata": {},
          "execution_count": 33
        }
      ]
    },
    {
      "cell_type": "code",
      "source": [
        "def calc_double(x):\n",
        "    return x * 2\n",
        "\n",
        "\n",
        "for num in [1,2,3,4]:\n",
        "    print(calc_double(num))\n",
        "\n",
        "list(map(calc_double,[1,2,3,4]))\n"
      ],
      "metadata": {
        "colab": {
          "base_uri": "https://localhost:8080/"
        },
        "id": "qyQXchVtq8if",
        "outputId": "7585e7a3-57ff-4928-85db-0dabcc471f7b"
      },
      "execution_count": null,
      "outputs": [
        {
          "output_type": "stream",
          "name": "stdout",
          "text": [
            "2\n",
            "4\n",
            "6\n",
            "8\n"
          ]
        },
        {
          "output_type": "execute_result",
          "data": {
            "text/plain": [
              "[2, 4, 6, 8]"
            ]
          },
          "metadata": {},
          "execution_count": 34
        }
      ]
    },
    {
      "cell_type": "code",
      "source": [
        "list(map(lambda x : x * 2,[1,2,3,4]))\n"
      ],
      "metadata": {
        "colab": {
          "base_uri": "https://localhost:8080/"
        },
        "id": "s2KksdOErVnA",
        "outputId": "ba84e4bd-bdbd-4765-95ae-021f26cafe0d"
      },
      "execution_count": null,
      "outputs": [
        {
          "output_type": "execute_result",
          "data": {
            "text/plain": [
              "[2, 4, 6, 8]"
            ]
          },
          "metadata": {},
          "execution_count": 35
        }
      ]
    },
    {
      "cell_type": "code",
      "source": [
        "#PrintClassクラスの作成とprint_meメソッド（関数）の作成\n",
        "class PrintClass:\n",
        "    def print_me(self):\n",
        "      print(self.x, self.y)\n",
        "\n",
        "#インスタンスの作成、生成\n",
        "p1 = PrintClass()\n",
        "\n",
        "#属性の値を代入\n",
        "p1.x = 10\n",
        "p1.y = 100\n",
        "p1.z = 1000\n",
        "\n",
        "#メソッドの呼び出し\n",
        "p1.print_me()\n",
        "\n",
        "#追加した属性を表示\n",
        "p1.z\n"
      ],
      "metadata": {
        "colab": {
          "base_uri": "https://localhost:8080/"
        },
        "id": "hU-DNqUTrhWD",
        "outputId": "20afa65d-8a84-409f-c87b-3c8879779998"
      },
      "execution_count": null,
      "outputs": [
        {
          "output_type": "stream",
          "name": "stdout",
          "text": [
            "10 100\n"
          ]
        },
        {
          "output_type": "execute_result",
          "data": {
            "text/plain": [
              "1000"
            ]
          },
          "metadata": {},
          "execution_count": 36
        }
      ]
    },
    {
      "cell_type": "code",
      "source": [
        "class MyCalcClass:\n",
        "    #コンストラクタ：オブジェクト生成時に呼び出される特殊な関数、初期化など\n",
        "    def __init__(self,x,y):\n",
        "        self.x = x\n",
        "        self.y = y\n",
        "    \n",
        "    def calc_add1(self,a,b):\n",
        "        return a + b\n",
        "    def calc_add2(self):\n",
        "        return self.x + self.y\n",
        "    def calc_multi(self,a,b):\n",
        "        return a * b\n",
        "    \n",
        "    def calc_print(self,a):\n",
        "        print(\"data:{0}:yの値{1}\".format(a,self.y))\n",
        "\n",
        "instance_1 = MyCalcClass(1,2)\n",
        "instance_2 = MyCalcClass(5,10)\n",
        "\n",
        "\n",
        "print(\"2つの数の足し算（新たに数字を引数としてセット):\", instance_1.calc_add1(5,3))\n",
        "print(\"2つの数の足し算（インスタンス化のときの値):\", instance_1.calc_add2())\n",
        "print(\"2つの数の掛け算:\", instance_1.calc_multi(5,3))\n",
        "instance_1.calc_print(5)\n"
      ],
      "metadata": {
        "colab": {
          "base_uri": "https://localhost:8080/"
        },
        "id": "IrErEsWwskuW",
        "outputId": "98e547bc-fdbf-4a39-d084-bde122aeaeea"
      },
      "execution_count": null,
      "outputs": [
        {
          "output_type": "stream",
          "name": "stdout",
          "text": [
            "2つの数の足し算（新たに数字を引数としてセット): 8\n",
            "2つの数の足し算（インスタンス化のときの値): 3\n",
            "2つの数の掛け算: 15\n",
            "data:5:yの値2\n"
          ]
        }
      ]
    },
    {
      "cell_type": "code",
      "source": [
        "print(\"2つの数の足し算（新たに数字を引数としてセット):\", instance_2.calc_add1(10,3))\n",
        "print(\"2つの数の足し算（インスタンス化のときの値):\", instance_2.calc_add2())\n",
        "print(\"2つの数の掛け算:\", instance_2.calc_multi(4,3))\n",
        "instance_2.calc_print(20)"
      ],
      "metadata": {
        "colab": {
          "base_uri": "https://localhost:8080/"
        },
        "id": "luYFUSC0sRah",
        "outputId": "d0661b64-57ac-439b-b3bd-84849954b8bb"
      },
      "execution_count": null,
      "outputs": [
        {
          "output_type": "stream",
          "name": "stdout",
          "text": [
            "2つの数の足し算（新たに数字を引数としてセット): 13\n",
            "2つの数の足し算（インスタンス化のときの値): 15\n",
            "2つの数の掛け算: 12\n",
            "data:20:yの値10\n"
          ]
        }
      ]
    },
    {
      "cell_type": "code",
      "source": [
        "#practice1-1\n",
        "#ある文字列(data Scienceなど)を変数に格納して、それを1文字ずつ表示させる。\n",
        "keyword = (\"data Science\")\n",
        "for i in range(len(keyword)):\n",
        "    print(keyword[i])\n",
        "\n",
        "\n",
        "print(keyword[0])"
      ],
      "metadata": {
        "colab": {
          "base_uri": "https://localhost:8080/"
        },
        "id": "nBP-ySZkzjCr",
        "outputId": "7ced95c2-4dab-4737-b4b1-4f869a7d7a5c"
      },
      "execution_count": null,
      "outputs": [
        {
          "output_type": "stream",
          "name": "stdout",
          "text": [
            "d\n",
            "a\n",
            "t\n",
            "a\n",
            " \n",
            "S\n",
            "c\n",
            "i\n",
            "e\n",
            "n\n",
            "c\n",
            "e\n",
            "d\n"
          ]
        }
      ]
    },
    {
      "cell_type": "code",
      "source": [
        "#practice1-2\n",
        "#1~50までの自然数の和を計算するプログラムを書いて、最後の計算結果を表示させる\n",
        "num = 1\n",
        "ans = 0\n",
        "while num <= 50:\n",
        "    ans = ans + num\n",
        "    num = num + 1\n",
        "\n",
        "print(ans)"
      ],
      "metadata": {
        "id": "9bCmOkeJzx-f"
      },
      "execution_count": null,
      "outputs": []
    },
    {
      "cell_type": "code",
      "source": [
        "#総合問題\n",
        "def get_primenumber(N):\n",
        "    #素数リスト\n",
        "    prime_list = [2]\n",
        "    #3からNまでの数字を一つずつ取り出す\n",
        "    for num in range(3,N+1,2):\n",
        "      #取り出した数字が素数リストの要素で割れなければ素数リストに追加する\n",
        "      if all( num % prime != 0 for prime in prime_list):\n",
        "        prime_list.append(num)\n",
        "\n",
        "    return prime_list\n",
        "\n",
        "print(get_primenumber(100))"
      ],
      "metadata": {
        "colab": {
          "base_uri": "https://localhost:8080/"
        },
        "id": "xrHNpiqTvcsh",
        "outputId": "c6d3a59e-1ba3-40dc-97c3-540d5aec7280"
      },
      "execution_count": null,
      "outputs": [
        {
          "output_type": "stream",
          "name": "stdout",
          "text": [
            "[2, 3, 5, 7, 11, 13, 17, 19, 23, 29, 31, 37, 41, 43, 47, 53, 59, 61, 67, 71, 73, 79, 83, 89, 97]\n"
          ]
        }
      ]
    }
  ]
}