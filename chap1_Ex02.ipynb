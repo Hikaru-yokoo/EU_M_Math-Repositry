{
  "nbformat": 4,
  "nbformat_minor": 0,
  "metadata": {
    "colab": {
      "name": "chap1_Ex02.ipynb",
      "provenance": [],
      "authorship_tag": "ABX9TyNt09pLUFGIc1b/TBCCSWwA",
      "include_colab_link": true
    },
    "kernelspec": {
      "name": "python3",
      "display_name": "Python 3"
    },
    "language_info": {
      "name": "python"
    }
  },
  "cells": [
    {
      "cell_type": "markdown",
      "metadata": {
        "id": "view-in-github",
        "colab_type": "text"
      },
      "source": [
        "<a href=\"https://colab.research.google.com/github/Hikaru-yokoo/EU_M_Math-Repositry/blob/main/chap1_Ex02.ipynb\" target=\"_parent\"><img src=\"https://colab.research.google.com/assets/colab-badge.svg\" alt=\"Open In Colab\"/></a>"
      ]
    },
    {
      "cell_type": "code",
      "execution_count": null,
      "metadata": {
        "id": "_6HPaMP2C6sX"
      },
      "outputs": [],
      "source": [
        "#practice1-2\n",
        "#1~50までの自然数の和を計算するプログラムを書いて、最後の計算結果を表示させる\n",
        "num = 1\n",
        "ans = 0\n",
        "while num <= 50:\n",
        "    ans = ans + num\n",
        "    num = num + 1\n",
        "\n",
        "print(ans)"
      ]
    }
  ]
}