{
  "nbformat": 4,
  "nbformat_minor": 0,
  "metadata": {
    "colab": {
      "name": "chap2_Ex09.ipynb",
      "provenance": [],
      "authorship_tag": "ABX9TyO6lL8Sn/IYuSRAZsJzI6vp",
      "include_colab_link": true
    },
    "kernelspec": {
      "name": "python3",
      "display_name": "Python 3"
    },
    "language_info": {
      "name": "python"
    }
  },
  "cells": [
    {
      "cell_type": "markdown",
      "metadata": {
        "id": "view-in-github",
        "colab_type": "text"
      },
      "source": [
        "<a href=\"https://colab.research.google.com/github/Hikaru-yokoo/EU_M_Math-Repositry/blob/main/chap2_Ex09.ipynb\" target=\"_parent\"><img src=\"https://colab.research.google.com/assets/colab-badge.svg\" alt=\"Open In Colab\"/></a>"
      ]
    },
    {
      "cell_type": "code",
      "execution_count": 9,
      "metadata": {
        "colab": {
          "base_uri": "https://localhost:8080/"
        },
        "id": "hdz--mpVj8FB",
        "outputId": "1f94da41-4a1c-4cb3-f0a4-e00b0142035b"
      },
      "outputs": [
        {
          "output_type": "stream",
          "name": "stderr",
          "text": [
            "/usr/local/lib/python3.7/dist-packages/ipykernel_launcher.py:23: FutureWarning: Dropping of nuisance columns in DataFrame reductions (with 'numeric_only=None') is deprecated; in a future version this will raise TypeError.  Select only valid columns before calling the reduction.\n"
          ]
        },
        {
          "output_type": "execute_result",
          "data": {
            "text/plain": [
              "ID           17.0\n",
              "Money       400.0\n",
              "Math         45.0\n",
              "Engilish     50.0\n",
              "dtype: float64"
            ]
          },
          "metadata": {},
          "execution_count": 9
        }
      ],
      "source": [
        "#これまでのデータに対して以下のデータの同じIDの人をキーとして、データをマージする。\n",
        "#MoneyとMathとEnglishの平均を求める。\n",
        "\n",
        "\n",
        "from pandas import Series, DataFrame\n",
        "import pandas as pd\n",
        "\n",
        "\n",
        "attri_data1 = {\"ID\":[\"1\",\"2\",\"3\",\"4\",\"5\"],\n",
        "               \"Sex\":[\"F\",\"F\",\"M\",\"M\",\"F\"],\n",
        "               \"Money\":[1000,2000,500,300,700],\n",
        "               \"Name\":[\"Saito\",\"Horie\",\"Kondo\",\"Kawada\",\"Matsubara\"]}\n",
        "attri_data_frame1 = DataFrame(attri_data1)\n",
        "\n",
        "\n",
        "attri_data2 = {\"ID\":[\"3\",\"4\",\"7\"],\n",
        "               \"Math\":[60,30,40],\n",
        "               \"Engilish\":[80,20,30]}\n",
        "attri_data_frame2 = DataFrame(attri_data2)\n",
        "\n",
        "attri_data_frame3 = pd.merge(attri_data_frame1,attri_data_frame2)\n",
        "\n",
        "attri_data_frame3.mean()\n"
      ]
    }
  ]
}