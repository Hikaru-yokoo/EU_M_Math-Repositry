{
  "nbformat": 4,
  "nbformat_minor": 0,
  "metadata": {
    "colab": {
      "name": "chap2_Ex01.ipynb",
      "provenance": [],
      "authorship_tag": "ABX9TyPgV/GxIb+KLUnJekV9iP3z",
      "include_colab_link": true
    },
    "kernelspec": {
      "name": "python3",
      "display_name": "Python 3"
    },
    "language_info": {
      "name": "python"
    }
  },
  "cells": [
    {
      "cell_type": "markdown",
      "metadata": {
        "id": "view-in-github",
        "colab_type": "text"
      },
      "source": [
        "<a href=\"https://colab.research.google.com/github/Hikaru-yokoo/EU_M_Math-Repositry/blob/main/chap2_Ex01.ipynb\" target=\"_parent\"><img src=\"https://colab.research.google.com/assets/colab-badge.svg\" alt=\"Open In Colab\"/></a>"
      ]
    },
    {
      "cell_type": "code",
      "execution_count": 25,
      "metadata": {
        "colab": {
          "base_uri": "https://localhost:8080/"
        },
        "id": "jR1iPg4nF5DX",
        "outputId": "bf4956d6-f26c-48ed-d065-1b7b0cec6873"
      },
      "outputs": [
        {
          "output_type": "stream",
          "name": "stdout",
          "text": [
            "1275\n"
          ]
        }
      ],
      "source": [
        "#practice2-1\n",
        "#1～50までの自然数の和を計算するプログラムを書いて、最後の計算結果を表示させる配列を作り総和を求める。\n",
        "\n",
        "numpy_sample_data = np.array([i for i in range(1,51)])\n",
        "print(numpy_sample_data.sum())\n",
        "\n"
      ]
    }
  ]
}