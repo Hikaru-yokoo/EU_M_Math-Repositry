{
  "nbformat": 4,
  "nbformat_minor": 0,
  "metadata": {
    "colab": {
      "name": "chap2_Cm01~03.ipynb",
      "provenance": [],
      "authorship_tag": "ABX9TyNNVCI//ksgNJQcnbQCnsA3",
      "include_colab_link": true
    },
    "kernelspec": {
      "name": "python3",
      "display_name": "Python 3"
    },
    "language_info": {
      "name": "python"
    }
  },
  "cells": [
    {
      "cell_type": "markdown",
      "metadata": {
        "id": "view-in-github",
        "colab_type": "text"
      },
      "source": [
        "<a href=\"https://colab.research.google.com/github/Hikaru-yokoo/EU_M_Math-Repositry/blob/main/chap2_Cm01~03.ipynb\" target=\"_parent\"><img src=\"https://colab.research.google.com/assets/colab-badge.svg\" alt=\"Open In Colab\"/></a>"
      ]
    },
    {
      "cell_type": "code",
      "execution_count": 33,
      "metadata": {
        "id": "zBLkJBt6ZBXP",
        "colab": {
          "base_uri": "https://localhost:8080/"
        },
        "outputId": "db75e944-6636-4f7c-caeb-aef08cc39b9b"
      },
      "outputs": [
        {
          "output_type": "stream",
          "name": "stdout",
          "text": [
            "内部: 7860 外部: 2140\n",
            "3.144\n"
          ]
        }
      ],
      "source": [
        "#モンテカルロ法\n",
        "import numpy as np\n",
        "import matplotlib.pyplot as plt\n",
        "import scipy as sp\n",
        "import pandas as pd\n",
        "import math\n",
        "\n",
        "x = np.random.uniform(0.0, 1.0, 10000)\n",
        "y = np.random.uniform(0.0, 1.0, 10000)\n",
        "\n",
        "x_list = []\n",
        "y_list = []\n",
        "\n",
        "\n",
        "n_1 = 0\n",
        "n_2 = 0\n",
        "for i in range(0,10000):\n",
        "    distance = math.hypot(x[i], y[i])\n",
        "\n",
        "    if distance < 1:\n",
        "        x_list.append(x[i])\n",
        "        y_list.append(y[i])\n",
        "        n_1 += 1\n",
        "    else:\n",
        "        n_2 += 1\n",
        "\n",
        "\n",
        "print(\"内部:\",n_1,\"外部:\",n_2)\n",
        "\n",
        "pi = 4.0 * n_1 / 10000\n",
        "\n",
        "print(pi)\n"
      ]
    }
  ]
}