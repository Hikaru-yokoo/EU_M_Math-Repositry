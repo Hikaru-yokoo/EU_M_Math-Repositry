{
  "nbformat": 4,
  "nbformat_minor": 0,
  "metadata": {
    "colab": {
      "name": "chap1_Cm02.ipynb",
      "provenance": [],
      "authorship_tag": "ABX9TyOVra2eAVGxYcHSMwOAERzK",
      "include_colab_link": true
    },
    "kernelspec": {
      "name": "python3",
      "display_name": "Python 3"
    },
    "language_info": {
      "name": "python"
    }
  },
  "cells": [
    {
      "cell_type": "markdown",
      "metadata": {
        "id": "view-in-github",
        "colab_type": "text"
      },
      "source": [
        "<a href=\"https://colab.research.google.com/github/Hikaru-yokoo/EU_M_Math-Repositry/blob/main/chap1_Cm02.ipynb\" target=\"_parent\"><img src=\"https://colab.research.google.com/assets/colab-badge.svg\" alt=\"Open In Colab\"/></a>"
      ]
    },
    {
      "cell_type": "code",
      "execution_count": null,
      "metadata": {
        "id": "NkrSe_M3DDkU"
      },
      "outputs": [],
      "source": [
        "#総合問題2\n",
        "def get_primenumber(N):\n",
        "    #素数リスト\n",
        "    prime_list = [2]\n",
        "    #3からNまでの数字を一つずつ取り出す\n",
        "    for num in range(3,N+1,2):\n",
        "      #取り出した数字が素数リストの要素で割れなければ素数リストに追加する\n",
        "      if all( num % prime != 0 for prime in prime_list):\n",
        "        prime_list.append(num)\n",
        "\n",
        "    return prime_list\n",
        "\n",
        "print(get_primenumber(100))"
      ]
    },
    {
      "cell_type": "code",
      "source": [
        ""
      ],
      "metadata": {
        "id": "mApbuk7DEDm1"
      },
      "execution_count": null,
      "outputs": []
    }
  ]
}