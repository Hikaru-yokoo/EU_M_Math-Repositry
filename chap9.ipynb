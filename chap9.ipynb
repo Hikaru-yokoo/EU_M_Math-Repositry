{
  "nbformat": 4,
  "nbformat_minor": 0,
  "metadata": {
    "colab": {
      "name": "chap9.ipynb",
      "provenance": [],
      "authorship_tag": "ABX9TyOTUUi7SL+nrVHhUJTXEZS/",
      "include_colab_link": true
    },
    "kernelspec": {
      "name": "python3",
      "display_name": "Python 3"
    },
    "language_info": {
      "name": "python"
    }
  },
  "cells": [
    {
      "cell_type": "markdown",
      "metadata": {
        "id": "view-in-github",
        "colab_type": "text"
      },
      "source": [
        "<a href=\"https://colab.research.google.com/github/Hikaru-yokoo/EU_M_Math-Repositry/blob/main/chap9.ipynb\" target=\"_parent\"><img src=\"https://colab.research.google.com/assets/colab-badge.svg\" alt=\"Open In Colab\"/></a>"
      ]
    },
    {
      "cell_type": "markdown",
      "source": [
        "9-2-2"
      ],
      "metadata": {
        "id": "d39MJeBhbOoJ"
      }
    },
    {
      "cell_type": "code",
      "execution_count": null,
      "metadata": {
        "colab": {
          "base_uri": "https://localhost:8080/",
          "height": 282
        },
        "id": "Y9RynnC7bMCN",
        "outputId": "ca8e9019-bf67-4ec0-9f42-526812857a4c"
      },
      "outputs": [
        {
          "output_type": "execute_result",
          "data": {
            "text/plain": [
              "<matplotlib.collections.PathCollection at 0x7fe5b9509ad0>"
            ]
          },
          "metadata": {},
          "execution_count": 2
        },
        {
          "output_type": "display_data",
          "data": {
            "text/plain": [
              "<Figure size 432x288 with 1 Axes>"
            ],
            "image/png": "[encoded data removed]"
          },
          "metadata": {
            "needs_background": "light"
          }
        }
      ],
      "source": [
        "# k-means法を使うためのインポート\n",
        "from sklearn.cluster import KMeans\n",
        "import matplotlib.pyplot as plt\n",
        "\n",
        "# データ取得のためのインポート\n",
        "from sklearn.datasets import make_blobs\n",
        "\n",
        "# サンプルデータ生成\n",
        "# 注意：make_blobsは2つの値を返すため、一方は使用しない「 _ 」で受け取る\n",
        "X, _ = make_blobs(random_state=10)\n",
        "\n",
        "# グラフを描画\n",
        "# colorのオプションで色付けができる\n",
        "plt.scatter(X[:,0],X[:,1],color='black')"
      ]
    },
    {
      "cell_type": "code",
      "source": [
        "# KMeansクラスの初期化\n",
        "kmeans = KMeans(init='random',n_clusters=3)\n",
        "\n",
        "# クラスターの重心を計算\n",
        "kmeans.fit(X)\n",
        "\n",
        "# クラスター番号を予測\n",
        "y_pred = kmeans.predict(X)"
      ],
      "metadata": {
        "id": "BXI3Q14Tbfpd"
      },
      "execution_count": null,
      "outputs": []
    },
    {
      "cell_type": "code",
      "source": [
        "# concatでデータを横に結合(axis=1を指定)\n",
        "import pandas as pd\n",
        "merge_data = pd.concat([pd.DataFrame(X[:,0]), pd.DataFrame(X[:,1]), pd.DataFrame(y_pred)], axis=1)\n",
        "\n",
        "# 上記のデータにて、X軸をfeature1、Y軸をfeature2、クラスター番号をclusterと列名指定\n",
        "merge_data.columns = ['feature1','feature2','cluster']\n",
        "\n",
        "# クラスタリング結果のグラフ化\n",
        "ax = None\n",
        "colors = ['blue', 'red', 'green']\n",
        "for i, data in merge_data.groupby('cluster'):\n",
        "    ax = data.plot.scatter(x='feature1', y='feature2', color=colors[i],\n",
        "                                           label=f'cluster{i}', ax=ax)"
      ],
      "metadata": {
        "colab": {
          "base_uri": "https://localhost:8080/",
          "height": 279
        },
        "id": "Lkjzf15-biiq",
        "outputId": "cfa68e37-5259-4f4b-fad0-11057835edef"
      },
      "execution_count": null,
      "outputs": [
        {
          "output_type": "display_data",
          "data": {
            "text/plain": [
              "<Figure size 432x288 with 1 Axes>"
            ],
            "image/png": "[encoded data removed]"
          },
          "metadata": {
            "needs_background": "light"
          }
        }
      ]
    },
    {
      "cell_type": "markdown",
      "source": [
        "9-2-4"
      ],
      "metadata": {
        "id": "NNZTnkQAbqwu"
      }
    },
    {
      "cell_type": "code",
      "source": [
        "# エルボー方による推定。クラスター数を1から10に増やして、それぞれの距離の総和を求める\n",
        "dist_list =[]\n",
        "for i in range(1,10):\n",
        "    kmeans= KMeans(n_clusters=i, init='random', random_state=0)\n",
        "    kmeans.fit(X)\n",
        "    dist_list.append(kmeans.inertia_)\n",
        "    \n",
        "# グラフを表示\n",
        "plt.plot(range(1,10), dist_list,marker='+')\n",
        "plt.xlabel('Number of clusters')\n",
        "plt.ylabel('Distortion')"
      ],
      "metadata": {
        "colab": {
          "base_uri": "https://localhost:8080/",
          "height": 296
        },
        "id": "uMjz04lqbr0e",
        "outputId": "097fb2f4-0625-482d-ec8a-ad6374f2acc1"
      },
      "execution_count": null,
      "outputs": [
        {
          "output_type": "execute_result",
          "data": {
            "text/plain": [
              "Text(0, 0.5, 'Distortion')"
            ]
          },
          "metadata": {},
          "execution_count": 7
        },
        {
          "output_type": "display_data",
          "data": {
            "text/plain": [
              "<Figure size 432x288 with 1 Axes>"
            ],
            "image/png": "[encoded data removed]"
          },
          "metadata": {
            "needs_background": "light"
          }
        }
      ]
    },
    {
      "cell_type": "code",
      "source": [
        "# webからデータを取得したり、zipファイルを扱うためのライブラリをインポート\n",
        "import requests, zipfile\n",
        "import io\n",
        "\n",
        "# データがあるurl の指定\n",
        "zip_file_url = 'http://archive.ics.uci.edu/ml/machine-learning-databases/00222/bank.zip'\n",
        "\n",
        "# データを取得して展開する\n",
        "r = requests.get(zip_file_url, stream=True)\n",
        "z = zipfile.ZipFile(io.BytesIO(r.content))\n",
        "z.extractall()\n",
        "#対象データを読み込み\n",
        "bank= pd.read_csv('bank-full.csv', sep=';')\n",
        "from sklearn.preprocessing import StandardScaler\n",
        "\n",
        "# データの列の絞り込み\n",
        "bank_sub = bank[['age','balance','campaign','previous']]\n",
        "\n",
        "# 標準化\n",
        "sc = StandardScaler()\n",
        "sc.fit(bank_sub)\n",
        "bank_sub_std = sc.transform(bank_sub)\n",
        "\n",
        "# エルボー方による推定。クラスター数を1から20に増やして、それぞれの距離の総和を求める\n",
        "dist_list =[]\n",
        "for i in range(1,20):\n",
        "    kmeans= KMeans(n_clusters=i, init='random', random_state=0)\n",
        "    kmeans.fit(bank_sub_std)\n",
        "    dist_list.append(kmeans.inertia_)\n",
        "    \n",
        "# グラフを表示\n",
        "plt.plot(range(1,20), dist_list,marker='+')\n",
        "plt.xlabel('Number of clusters')\n",
        "plt.ylabel('Distortion')"
      ],
      "metadata": {
        "colab": {
          "base_uri": "https://localhost:8080/",
          "height": 296
        },
        "id": "B27IxkzsbxHw",
        "outputId": "6c7c8243-cbe1-42a0-db78-f4c8544dd9f2"
      },
      "execution_count": null,
      "outputs": [
        {
          "output_type": "execute_result",
          "data": {
            "text/plain": [
              "Text(0, 0.5, 'Distortion')"
            ]
          },
          "metadata": {},
          "execution_count": 10
        },
        {
          "output_type": "display_data",
          "data": {
            "text/plain": [
              "<Figure size 432x288 with 1 Axes>"
            ],
            "image/png": "[encoded data removed]"
          },
          "metadata": {
            "needs_background": "light"
          }
        }
      ]
    },
    {
      "cell_type": "markdown",
      "source": [
        "9-3-1"
      ],
      "metadata": {
        "id": "0MydD0q0c2YF"
      }
    },
    {
      "cell_type": "code",
      "source": [
        "from sklearn.preprocessing import StandardScaler\n",
        "import numpy as np\n",
        "import scipy as sp\n",
        "# RandomStateオブジェクトを作成\n",
        "sample = np.random.RandomState(1)\n",
        "\n",
        "#２つの乱数を生成\n",
        "X = np.dot(sample.rand(2, 2), sample.randn(2, 200)).T\n",
        "\n",
        "# 標準化\n",
        "sc = StandardScaler()\n",
        "X_std = sc.fit_transform(X)\n",
        "\n",
        "# 相関係数の算出とグラフ化\n",
        "print('相関係数{:.3f}:'.format(sp.stats.pearsonr(X_std[:, 0], X_std[:, 1])[0]))\n",
        "plt.scatter(X_std[:, 0], X_std[:, 1])"
      ],
      "metadata": {
        "colab": {
          "base_uri": "https://localhost:8080/",
          "height": 300
        },
        "id": "iGqEaZu6czTD",
        "outputId": "2059aedc-63a1-4a69-aa76-699feb9bb9e8"
      },
      "execution_count": null,
      "outputs": [
        {
          "output_type": "stream",
          "name": "stdout",
          "text": [
            "相関係数0.889:\n"
          ]
        },
        {
          "output_type": "execute_result",
          "data": {
            "text/plain": [
              "<matplotlib.collections.PathCollection at 0x7fe5ab528d50>"
            ]
          },
          "metadata": {},
          "execution_count": 15
        },
        {
          "output_type": "display_data",
          "data": {
            "text/plain": [
              "<Figure size 432x288 with 1 Axes>"
            ],
            "image/png": "[encoded data removed]"
          },
          "metadata": {
            "needs_background": "light"
          }
        }
      ]
    },
    {
      "cell_type": "code",
      "source": [
        "# インポート\n",
        "from sklearn.decomposition import PCA\n",
        "\n",
        "# 主成分分析\n",
        "pca = PCA(n_components=2)\n",
        "pca.fit(X_std)"
      ],
      "metadata": {
        "colab": {
          "base_uri": "https://localhost:8080/"
        },
        "id": "k6JvW6yGdOkF",
        "outputId": "027f4b3b-6281-4097-dbe6-0611d0d10ace"
      },
      "execution_count": null,
      "outputs": [
        {
          "output_type": "execute_result",
          "data": {
            "text/plain": [
              "PCA(n_components=2)"
            ]
          },
          "metadata": {},
          "execution_count": 16
        }
      ]
    },
    {
      "cell_type": "code",
      "source": [
        "print(pca.components_)"
      ],
      "metadata": {
        "colab": {
          "base_uri": "https://localhost:8080/"
        },
        "id": "dhICyfQHdPnf",
        "outputId": "2ad49892-d712-4f02-b134-64354b291e0c"
      },
      "execution_count": null,
      "outputs": [
        {
          "output_type": "stream",
          "name": "stdout",
          "text": [
            "[[-0.70710678 -0.70710678]\n",
            " [-0.70710678  0.70710678]]\n"
          ]
        }
      ]
    },
    {
      "cell_type": "code",
      "source": [
        "print('各主成分の分散:{}'.format(pca.explained_variance_))\n",
        "print('各主成分の分散割合:{}'.format(pca.explained_variance_ratio_))\n"
      ],
      "metadata": {
        "colab": {
          "base_uri": "https://localhost:8080/"
        },
        "id": "Gr-5l62YdRzW",
        "outputId": "67258dc4-bd7b-4092-f578-a9024aed62da"
      },
      "execution_count": null,
      "outputs": [
        {
          "output_type": "stream",
          "name": "stdout",
          "text": [
            "各主成分の分散:[1.89888438 0.11116588]\n",
            "各主成分の分散割合:[0.94469498 0.05530502]\n"
          ]
        }
      ]
    },
    {
      "cell_type": "code",
      "source": [
        "# パラメータ設定\n",
        "arrowprops=dict(arrowstyle='->',\n",
        "                linewidth=2,\n",
        "                shrinkA=0, shrinkB=0)\n",
        "\n",
        "# 矢印を描くための関数\n",
        "def draw_vector(v0, v1):\n",
        "    plt.gca().annotate('', v1, v0, arrowprops=arrowprops)\n",
        "\n",
        "# 元のデータをプロット\n",
        "plt.scatter(X_std[:, 0], X_std[:, 1], alpha=0.2)\n",
        "\n",
        "# 主成分分析の2軸を矢印で表示する\n",
        "for length, vector in zip(pca.explained_variance_, pca.components_):\n",
        "    v = vector * 3 * np.sqrt(length)\n",
        "    draw_vector(pca.mean_, pca.mean_ + v)\n",
        "\n",
        "plt.axis('equal');"
      ],
      "metadata": {
        "colab": {
          "base_uri": "https://localhost:8080/",
          "height": 265
        },
        "id": "Xjk1GJHBdkt5",
        "outputId": "6d259b12-987b-4191-cdfa-648b37cebdf6"
      },
      "execution_count": null,
      "outputs": [
        {
          "output_type": "display_data",
          "data": {
            "text/plain": [
              "<Figure size 432x288 with 1 Axes>"
            ],
            "image/png": "[encoded data removed]"
          },
          "metadata": {
            "needs_background": "light"
          }
        }
      ]
    },
    {
      "cell_type": "markdown",
      "source": [
        "練習問題"
      ],
      "metadata": {
        "id": "-usWcYjidvEB"
      }
    },
    {
      "cell_type": "code",
      "source": [
        "# データ加工・処理・分析ライブラリ\n",
        "import numpy as np\n",
        "import numpy.random as random\n",
        "import scipy as sp\n",
        "from pandas import Series,DataFrame\n",
        "import pandas as pd\n",
        "\n",
        "# 可視化ライブラリ\n",
        "import matplotlib.pyplot as plt\n",
        "import matplotlib as mpl\n",
        "import seaborn as sns\n",
        "%matplotlib inline\n",
        "\n",
        "# 機械学習ライブラリ\n",
        "import sklearn\n",
        "\n",
        "# 小数第３位まで表示\n",
        "%precision 3"
      ],
      "metadata": {
        "colab": {
          "base_uri": "https://localhost:8080/",
          "height": 35
        },
        "id": "My2XB-UBdwME",
        "outputId": "61f852b3-6fb4-494e-ed97-aa6c872290b4"
      },
      "execution_count": null,
      "outputs": [
        {
          "output_type": "execute_result",
          "data": {
            "text/plain": [
              "'%.3f'"
            ],
            "application/vnd.google.colaboratory.intrinsic+json": {
              "type": "string"
            }
          },
          "metadata": {},
          "execution_count": 22
        }
      ]
    },
    {
      "cell_type": "markdown",
      "source": [
        "練習問題9－1"
      ],
      "metadata": {
        "id": "Y7lFWWgReXR7"
      }
    },
    {
      "cell_type": "code",
      "source": [
        "from sklearn.datasets import make_blobs\n",
        "from sklearn.cluster import KMeans\n",
        "\n",
        "X, y = make_blobs(random_state=52)\n",
        "plt.scatter(X[:,0], X[:,1], color='black')\n",
        "\n",
        "kmeans = KMeans(init='random', n_clusters=2)\n",
        "kmeans.fit(X)\n",
        "y_pred = kmeans.predict(X)\n",
        "\n",
        "# 順にx座標、y座標、cluster番号のデータを横に結合するためconcatでaxis=1を指定しています。\n",
        "merge_data = pd.concat([pd.DataFrame(X[:,0]), pd.DataFrame(X[:,1]), pd.DataFrame(y_pred)], axis=1)\n",
        "merge_data.columns = ['feature1','feature2','cluster']\n",
        "\n",
        "# クラスタリング結果のグラフ化\n",
        "ax = None\n",
        "colors = ['blue', 'red']\n",
        "for i, data in merge_data.groupby('cluster'):\n",
        "    ax = data.plot.scatter(\n",
        "        x='feature1', y='feature2', \n",
        "        color=colors[i], label=f'cluster{i}', ax=ax\n",
        "    )"
      ],
      "metadata": {
        "colab": {
          "base_uri": "https://localhost:8080/",
          "height": 527
        },
        "id": "CeOzMyv4eBYz",
        "outputId": "3671edc2-6d59-49c3-ddf5-b86b0e50d879"
      },
      "execution_count": null,
      "outputs": [
        {
          "output_type": "display_data",
          "data": {
            "text/plain": [
              "<Figure size 432x288 with 1 Axes>"
            ],
            "image/png": "[encoded data removed]"
          },
          "metadata": {
            "needs_background": "light"
          }
        },
        {
          "output_type": "display_data",
          "data": {
            "text/plain": [
              "<Figure size 432x288 with 1 Axes>"
            ],
            "image/png": "[encoded data removed]"
          },
          "metadata": {
            "needs_background": "light"
          }
        }
      ]
    },
    {
      "cell_type": "markdown",
      "source": [
        "練習問題9－2"
      ],
      "metadata": {
        "id": "iPx_R5u7eeok"
      }
    },
    {
      "cell_type": "code",
      "source": [
        "from sklearn.datasets import load_iris\n",
        "from sklearn.preprocessing import StandardScaler\n",
        "from sklearn.decomposition import PCA\n",
        "\n",
        "iris = load_iris()\n",
        "\n",
        "sc = StandardScaler()\n",
        "sc.fit(iris.data)\n",
        "X_std = sc.transform(iris.data)\n",
        "\n",
        "# 主成分分析の実行\n",
        "pca = PCA(n_components=2)\n",
        "pca.fit(X_std)\n",
        "X_pca = pca.transform(X_std)\n",
        "\n",
        "print('主成分分析前のデータ次元：{}'.format(iris.data.shape))\n",
        "print('主成分分析後のデータ次元：{}'.format(X_pca.shape))\n",
        "\n",
        "merge_data = pd.concat([pd.DataFrame(X_pca[:,0]), pd.DataFrame(X_pca[:,1]), pd.DataFrame(iris.target)], axis=1)\n",
        "merge_data.columns = ['pc1','pc2', 'target']\n",
        "\n",
        "# クラスタリング結果のグラフ化\n",
        "ax = None\n",
        "colors = ['blue', 'red', 'green']\n",
        "for i, data in merge_data.groupby('target'):\n",
        "    ax = data.plot.scatter(\n",
        "        x='pc1', y='pc2',\n",
        "        color=colors[i], label=f'target-{i}', ax=ax\n",
        "    )"
      ],
      "metadata": {
        "colab": {
          "base_uri": "https://localhost:8080/",
          "height": 314
        },
        "id": "NgG4IpPeePce",
        "outputId": "97bbf8d4-b6e6-43d1-c7c2-f762f9dbe7aa"
      },
      "execution_count": null,
      "outputs": [
        {
          "output_type": "stream",
          "name": "stdout",
          "text": [
            "主成分分析前のデータ次元：(150, 4)\n",
            "主成分分析後のデータ次元：(150, 2)\n"
          ]
        },
        {
          "output_type": "display_data",
          "data": {
            "text/plain": [
              "<Figure size 432x288 with 1 Axes>"
            ],
            "image/png": "[encoded data removed]"
          },
          "metadata": {
            "needs_background": "light"
          }
        }
      ]
    },
    {
      "cell_type": "code",
      "source": [
        "fig, axes = plt.subplots(2,2,figsize=(20,7))\n",
        "\n",
        "iris_0 = iris.data[iris.target==0]\n",
        "iris_1 = iris.data[iris.target==1]\n",
        "iris_2 = iris.data[iris.target==2]\n",
        "\n",
        "ax = axes.ravel()\n",
        "for i in range(4):\n",
        "    _,bins = np.histogram(iris.data[:,i],bins=50)\n",
        "    ax[i].hist(iris_0[:,i],bins=bins,alpha=.5)\n",
        "    ax[i].hist(iris_1[:,i],bins=bins,alpha=.5)\n",
        "    ax[i].hist(iris_2[:,i],bins=bins,alpha=.5)\n",
        "    ax[i].set_title(iris.feature_names[i])\n",
        "    ax[i].set_yticks(())\n",
        "ax[0].set_ylabel('Count')\n",
        "ax[0].legend(['setosa','versicolor','virginica'], loc='best')\n",
        "fig.tight_layout()"
      ],
      "metadata": {
        "colab": {
          "base_uri": "https://localhost:8080/",
          "height": 533
        },
        "id": "MXsqMjuUem88",
        "outputId": "8cddfe7d-b761-4eaf-94be-d04a9254c2ad"
      },
      "execution_count": null,
      "outputs": [
        {
          "output_type": "display_data",
          "data": {
            "text/plain": [
              "<Figure size 1440x504 with 4 Axes>"
            ],
            "image/png": "[encoded data removed]"
          },
          "metadata": {
            "needs_background": "light"
          }
        }
      ]
    },
    {
      "cell_type": "code",
      "source": [
        "trans = pd.read_excel(\"Online Retail.xlsx\", sheet_name = \"Online Retail\")\n",
        "trans.head()"
      ],
      "metadata": {
        "colab": {
          "base_uri": "https://localhost:8080/",
          "height": 337
        },
        "id": "hgtrSw6AewtZ",
        "outputId": "8aaff5c4-6627-4d30-92b8-7e3655ab0392"
      },
      "execution_count": null,
      "outputs": [
        {
          "output_type": "execute_result",
          "data": {
            "text/plain": [
              "  InvoiceNo StockCode                          Description  Quantity  \\\n",
              "0    536365    85123A   WHITE HANGING HEART T-LIGHT HOLDER         6   \n",
              "1    536365     71053                  WHITE METAL LANTERN         6   \n",
              "2    536365    84406B       CREAM CUPID HEARTS COAT HANGER         8   \n",
              "3    536365    84029G  KNITTED UNION FLAG HOT WATER BOTTLE         6   \n",
              "4    536365    84029E       RED WOOLLY HOTTIE WHITE HEART.         6   \n",
              "\n",
              "          InvoiceDate  UnitPrice  CustomerID         Country  \n",
              "0 2010-12-01 08:26:00       2.55     17850.0  United Kingdom  \n",
              "1 2010-12-01 08:26:00       3.39     17850.0  United Kingdom  \n",
              "2 2010-12-01 08:26:00       2.75     17850.0  United Kingdom  \n",
              "3 2010-12-01 08:26:00       3.39     17850.0  United Kingdom  \n",
              "4 2010-12-01 08:26:00       3.39     17850.0  United Kingdom  "
            ],
            "text/html": [
              "\n",
              "  <div id=\"df-aeae4d51-67a9-4800-80d1-e298e3231881\">\n",
              "    <div class=\"colab-df-container\">\n",
              "      <div>\n",
              "<style scoped>\n",
              "    .dataframe tbody tr th:only-of-type {\n",
              "        vertical-align: middle;\n",
              "    }\n",
              "\n",
              "    .dataframe tbody tr th {\n",
              "        vertical-align: top;\n",
              "    }\n",
              "\n",
              "    .dataframe thead th {\n",
              "        text-align: right;\n",
              "    }\n",
              "</style>\n",
              "<table border=\"1\" class=\"dataframe\">\n",
              "  <thead>\n",
              "    <tr style=\"text-align: right;\">\n",
              "      <th></th>\n",
              "      <th>InvoiceNo</th>\n",
              "      <th>StockCode</th>\n",
              "      <th>Description</th>\n",
              "      <th>Quantity</th>\n",
              "      <th>InvoiceDate</th>\n",
              "      <th>UnitPrice</th>\n",
              "      <th>CustomerID</th>\n",
              "      <th>Country</th>\n",
              "    </tr>\n",
              "  </thead>\n",
              "  <tbody>\n",
              "    <tr>\n",
              "      <th>0</th>\n",
              "      <td>536365</td>\n",
              "      <td>85123A</td>\n",
              "      <td>WHITE HANGING HEART T-LIGHT HOLDER</td>\n",
              "      <td>6</td>\n",
              "      <td>2010-12-01 08:26:00</td>\n",
              "      <td>2.55</td>\n",
              "      <td>17850.0</td>\n",
              "      <td>United Kingdom</td>\n",
              "    </tr>\n",
              "    <tr>\n",
              "      <th>1</th>\n",
              "      <td>536365</td>\n",
              "      <td>71053</td>\n",
              "      <td>WHITE METAL LANTERN</td>\n",
              "      <td>6</td>\n",
              "      <td>2010-12-01 08:26:00</td>\n",
              "      <td>3.39</td>\n",
              "      <td>17850.0</td>\n",
              "      <td>United Kingdom</td>\n",
              "    </tr>\n",
              "    <tr>\n",
              "      <th>2</th>\n",
              "      <td>536365</td>\n",
              "      <td>84406B</td>\n",
              "      <td>CREAM CUPID HEARTS COAT HANGER</td>\n",
              "      <td>8</td>\n",
              "      <td>2010-12-01 08:26:00</td>\n",
              "      <td>2.75</td>\n",
              "      <td>17850.0</td>\n",
              "      <td>United Kingdom</td>\n",
              "    </tr>\n",
              "    <tr>\n",
              "      <th>3</th>\n",
              "      <td>536365</td>\n",
              "      <td>84029G</td>\n",
              "      <td>KNITTED UNION FLAG HOT WATER BOTTLE</td>\n",
              "      <td>6</td>\n",
              "      <td>2010-12-01 08:26:00</td>\n",
              "      <td>3.39</td>\n",
              "      <td>17850.0</td>\n",
              "      <td>United Kingdom</td>\n",
              "    </tr>\n",
              "    <tr>\n",
              "      <th>4</th>\n",
              "      <td>536365</td>\n",
              "      <td>84029E</td>\n",
              "      <td>RED WOOLLY HOTTIE WHITE HEART.</td>\n",
              "      <td>6</td>\n",
              "      <td>2010-12-01 08:26:00</td>\n",
              "      <td>3.39</td>\n",
              "      <td>17850.0</td>\n",
              "      <td>United Kingdom</td>\n",
              "    </tr>\n",
              "  </tbody>\n",
              "</table>\n",
              "</div>\n",
              "      <button class=\"colab-df-convert\" onclick=\"convertToInteractive('df-aeae4d51-67a9-4800-80d1-e298e3231881')\"\n",
              "              title=\"Convert this dataframe to an interactive table.\"\n",
              "              style=\"display:none;\">\n",
              "        \n",
              "  <svg xmlns=\"http://www.w3.org/2000/svg\" height=\"24px\"viewBox=\"0 0 24 24\"\n",
              "       width=\"24px\">\n",
              "    <path d=\"M0 0h24v24H0V0z\" fill=\"none\"/>\n",
              "    <path d=\"M18.56 5.44l.94 2.06.94-2.06 2.06-.94-2.06-.94-.94-2.06-.94 2.06-2.06.94zm-11 1L8.5 8.5l.94-2.06 2.06-.94-2.06-.94L8.5 2.5l-.94 2.06-2.06.94zm10 10l.94 2.06.94-2.06 2.06-.94-2.06-.94-.94-2.06-.94 2.06-2.06.94z\"/><path d=\"M17.41 7.96l-1.37-1.37c-.4-.4-.92-.59-1.43-.59-.52 0-1.04.2-1.43.59L10.3 9.45l-7.72 7.72c-.78.78-.78 2.05 0 2.83L4 21.41c.39.39.9.59 1.41.59.51 0 1.02-.2 1.41-.59l7.78-7.78 2.81-2.81c.8-.78.8-2.07 0-2.86zM5.41 20L4 18.59l7.72-7.72 1.47 1.35L5.41 20z\"/>\n",
              "  </svg>\n",
              "      </button>\n",
              "      \n",
              "  <style>\n",
              "    .colab-df-container {\n",
              "      display:flex;\n",
              "      flex-wrap:wrap;\n",
              "      gap: 12px;\n",
              "    }\n",
              "\n",
              "    .colab-df-convert {\n",
              "      background-color: #E8F0FE;\n",
              "      border: none;\n",
              "      border-radius: 50%;\n",
              "      cursor: pointer;\n",
              "      display: none;\n",
              "      fill: #1967D2;\n",
              "      height: 32px;\n",
              "      padding: 0 0 0 0;\n",
              "      width: 32px;\n",
              "    }\n",
              "\n",
              "    .colab-df-convert:hover {\n",
              "      background-color: #E2EBFA;\n",
              "      box-shadow: 0px 1px 2px rgba(60, 64, 67, 0.3), 0px 1px 3px 1px rgba(60, 64, 67, 0.15);\n",
              "      fill: #174EA6;\n",
              "    }\n",
              "\n",
              "    [theme=dark] .colab-df-convert {\n",
              "      background-color: #3B4455;\n",
              "      fill: #D2E3FC;\n",
              "    }\n",
              "\n",
              "    [theme=dark] .colab-df-convert:hover {\n",
              "      background-color: #434B5C;\n",
              "      box-shadow: 0px 1px 3px 1px rgba(0, 0, 0, 0.15);\n",
              "      filter: drop-shadow(0px 1px 2px rgba(0, 0, 0, 0.3));\n",
              "      fill: #FFFFFF;\n",
              "    }\n",
              "  </style>\n",
              "\n",
              "      <script>\n",
              "        const buttonEl =\n",
              "          document.querySelector('#df-aeae4d51-67a9-4800-80d1-e298e3231881 button.colab-df-convert');\n",
              "        buttonEl.style.display =\n",
              "          google.colab.kernel.accessAllowed ? 'block' : 'none';\n",
              "\n",
              "        async function convertToInteractive(key) {\n",
              "          const element = document.querySelector('#df-aeae4d51-67a9-4800-80d1-e298e3231881');\n",
              "          const dataTable =\n",
              "            await google.colab.kernel.invokeFunction('convertToInteractive',\n",
              "                                                     [key], {});\n",
              "          if (!dataTable) return;\n",
              "\n",
              "          const docLinkHtml = 'Like what you see? Visit the ' +\n",
              "            '<a target=\"_blank\" href=https://colab.research.google.com/notebooks/data_table.ipynb>data table notebook</a>'\n",
              "            + ' to learn more about interactive tables.';\n",
              "          element.innerHTML = '';\n",
              "          dataTable['output_type'] = 'display_data';\n",
              "          await google.colab.output.renderOutput(dataTable, element);\n",
              "          const docLink = document.createElement('div');\n",
              "          docLink.innerHTML = docLinkHtml;\n",
              "          element.appendChild(docLink);\n",
              "        }\n",
              "      </script>\n",
              "    </div>\n",
              "  </div>\n",
              "  "
            ]
          },
          "metadata": {},
          "execution_count": 26
        }
      ]
    },
    {
      "cell_type": "code",
      "source": [
        "# InoivceNoの先頭1文字をcancel_flgとして追加\n",
        "trans['cancel_flg'] = trans.InvoiceNo.map(lambda x:str(x)[0])\n",
        "\n",
        "# cancel_flgでグルーピングして集計\n",
        "trans.groupby('cancel_flg').size()"
      ],
      "metadata": {
        "colab": {
          "base_uri": "https://localhost:8080/"
        },
        "id": "eACZxqiPjSAZ",
        "outputId": "009626d8-5377-4bc7-9019-6ba7c15c6773"
      },
      "execution_count": null,
      "outputs": [
        {
          "output_type": "execute_result",
          "data": {
            "text/plain": [
              "cancel_flg\n",
              "5    532618\n",
              "A         3\n",
              "C      9288\n",
              "dtype: int64"
            ]
          },
          "metadata": {},
          "execution_count": 28
        }
      ]
    },
    {
      "cell_type": "code",
      "source": [
        "trans = trans[(trans.cancel_flg == '5') & (trans.CustomerID.notnull())]"
      ],
      "metadata": {
        "id": "22U0gCgcjfVM"
      },
      "execution_count": null,
      "outputs": []
    },
    {
      "cell_type": "code",
      "source": [
        "# StockCodeごとに件数を数え、上位5件を表示\n",
        "trans['StockCode'].value_counts().head(5)"
      ],
      "metadata": {
        "colab": {
          "base_uri": "https://localhost:8080/"
        },
        "id": "hROOVG_2jf82",
        "outputId": "ffa30d62-8f77-45ca-c6d3-d803cd64aa52"
      },
      "execution_count": null,
      "outputs": [
        {
          "output_type": "execute_result",
          "data": {
            "text/plain": [
              "85123A    2035\n",
              "22423     1724\n",
              "85099B    1618\n",
              "84879     1408\n",
              "47566     1397\n",
              "Name: StockCode, dtype: int64"
            ]
          },
          "metadata": {},
          "execution_count": 30
        }
      ]
    },
    {
      "cell_type": "code",
      "source": [
        "# すべてのInvoiceNoをtrans_allとして抽出\n",
        "trans_all = set(trans.InvoiceNo) \n",
        "\n",
        "# 商品85123Aを購入したデータをtrans_aとする\n",
        "trans_a = set(trans[trans['StockCode']=='85123A'].InvoiceNo)\n",
        "print(len(trans_a))\n",
        "\n",
        "# 商品85099Bを購入したデータをtrans_bとする\n",
        "trans_b = set(trans[trans['StockCode']=='85099B'].InvoiceNo)\n",
        "print(len(trans_b))\n",
        "\n",
        "# 商品85123Aおよび85099Bを購入したデータをtrans_abとする\n",
        "trans_ab = trans_a&trans_b\n",
        "print(len(trans_ab))"
      ],
      "metadata": {
        "colab": {
          "base_uri": "https://localhost:8080/"
        },
        "id": "glcri1I6jnjW",
        "outputId": "82362664-1842-432c-fad2-081644b89da2"
      },
      "execution_count": null,
      "outputs": [
        {
          "output_type": "stream",
          "name": "stdout",
          "text": [
            "1978\n",
            "1600\n",
            "252\n"
          ]
        }
      ]
    },
    {
      "cell_type": "code",
      "source": [
        "# trans_ab の、両商品を含むバスケットの数を表示\n",
        "print('両商品を含むバスケットの数:{}'.format(len(trans_ab)))\n",
        "print('両商品を含むバスケットの全体に占める割合:{:.3f}'.format(len(trans_ab)/len(trans_all)))"
      ],
      "metadata": {
        "colab": {
          "base_uri": "https://localhost:8080/"
        },
        "id": "HmkudvGPkCsK",
        "outputId": "aa38910e-bded-41fc-98ff-2ce660b3e2d2"
      },
      "execution_count": null,
      "outputs": [
        {
          "output_type": "stream",
          "name": "stdout",
          "text": [
            "両商品を含むバスケットの数:252\n",
            "両商品を含むバスケットの全体に占める割合:0.014\n"
          ]
        }
      ]
    },
    {
      "cell_type": "code",
      "source": [
        "print('商品85123Aのバスケットの数:{}'.format(len(trans_a)))\n",
        "print('商品85123Aを含むバスケットの全体に占める割合:{:.3f}'.format(len(trans_a)/len(trans_all)))"
      ],
      "metadata": {
        "colab": {
          "base_uri": "https://localhost:8080/"
        },
        "id": "hPcmuAq8kdRZ",
        "outputId": "05cc0ad6-a3c3-444b-d51c-baf9481a98f8"
      },
      "execution_count": null,
      "outputs": [
        {
          "output_type": "stream",
          "name": "stdout",
          "text": [
            "商品85123Aのバスケットの数:1978\n",
            "商品85123Aを含むバスケットの全体に占める割合:0.107\n"
          ]
        }
      ]
    },
    {
      "cell_type": "code",
      "source": [
        "print('確信度:{:.3f}'.format(len(trans_ab)/len(trans_a)))"
      ],
      "metadata": {
        "colab": {
          "base_uri": "https://localhost:8080/"
        },
        "id": "IXtTnTY_kqVG",
        "outputId": "b91fbba4-91e6-4e80-e344-e8e901a65886"
      },
      "execution_count": null,
      "outputs": [
        {
          "output_type": "stream",
          "name": "stdout",
          "text": [
            "確信度:0.127\n"
          ]
        }
      ]
    },
    {
      "cell_type": "code",
      "source": [
        "print('確信度:{:.3f}'.format(len(trans_ab)/len(trans_b)))"
      ],
      "metadata": {
        "colab": {
          "base_uri": "https://localhost:8080/"
        },
        "id": "K3VaxKObkx5f",
        "outputId": "a75d73a7-91ca-4941-ba58-9f0603d757c7"
      },
      "execution_count": null,
      "outputs": [
        {
          "output_type": "stream",
          "name": "stdout",
          "text": [
            "確信度:0.158\n"
          ]
        }
      ]
    },
    {
      "cell_type": "code",
      "source": [
        "# 全体のバスケットに占める商品Bの購買率を計算\n",
        "support_b = len(trans_b) / len(trans_all)\n",
        "\n",
        "# 商品Aを購買したときの商品Bの購買率を計算\n",
        "confidence = len(trans_ab) / len(trans_a)\n",
        "\n",
        "# リスト値を計算\n",
        "lift = confidence / support_b\n",
        "print('lift:{:.3f}'.format(lift))"
      ],
      "metadata": {
        "colab": {
          "base_uri": "https://localhost:8080/"
        },
        "id": "AT-dbarBk1zR",
        "outputId": "888fa505-e1f8-41c8-98bb-72df6d970e54"
      },
      "execution_count": null,
      "outputs": [
        {
          "output_type": "stream",
          "name": "stdout",
          "text": [
            "lift:1.476\n"
          ]
        }
      ]
    },
    {
      "cell_type": "code",
      "source": [
        "trans['UnitPrice'].value_counts().head(5)"
      ],
      "metadata": {
        "colab": {
          "base_uri": "https://localhost:8080/"
        },
        "id": "EyacwalHlOB4",
        "outputId": "7e7f45a4-9de8-4f39-a924-1f59608e46da"
      },
      "execution_count": null,
      "outputs": [
        {
          "output_type": "execute_result",
          "data": {
            "text/plain": [
              "1.25    45841\n",
              "1.65    36834\n",
              "2.95    26562\n",
              "0.85    25968\n",
              "0.42    21812\n",
              "Name: UnitPrice, dtype: int64"
            ]
          },
          "metadata": {},
          "execution_count": 38
        }
      ]
    }
  ]
}