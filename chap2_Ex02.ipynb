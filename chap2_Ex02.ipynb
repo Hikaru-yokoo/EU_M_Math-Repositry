{
  "nbformat": 4,
  "nbformat_minor": 0,
  "metadata": {
    "colab": {
      "name": "chap2_Ex02.ipynb",
      "provenance": [],
      "authorship_tag": "ABX9TyMAdwEjJ/u0iULX+Ccm1xmO",
      "include_colab_link": true
    },
    "kernelspec": {
      "name": "python3",
      "display_name": "Python 3"
    },
    "language_info": {
      "name": "python"
    }
  },
  "cells": [
    {
      "cell_type": "markdown",
      "metadata": {
        "id": "view-in-github",
        "colab_type": "text"
      },
      "source": [
        "<a href=\"https://colab.research.google.com/github/Hikaru-yokoo/EU_M_Math-Repositry/blob/main/chap2_Ex02.ipynb\" target=\"_parent\"><img src=\"https://colab.research.google.com/assets/colab-badge.svg\" alt=\"Open In Colab\"/></a>"
      ]
    },
    {
      "cell_type": "code",
      "execution_count": 12,
      "metadata": {
        "colab": {
          "base_uri": "https://localhost:8080/"
        },
        "id": "E6MuCi8BLfJP",
        "outputId": "8ffa81cd-7e35-4858-bbda-5f97cbac8981"
      },
      "outputs": [
        {
          "output_type": "stream",
          "name": "stdout",
          "text": [
            "[ 1.76405235  0.40015721  0.97873798  2.2408932   1.86755799 -0.97727788\n",
            "  0.95008842 -0.15135721 -0.10321885  0.4105985 ]\n",
            "最小値 -0.977277879876411\n",
            "最大値 2.240893199201458\n",
            "合計 7.380231707288347\n"
          ]
        }
      ],
      "source": [
        "#乱数10個を発生させて、配列を作成。Min Max Sumを求めよ。\n",
        "import numpy as np\n",
        "import numpy.random as random\n",
        "random.seed(0)\n",
        "\n",
        "data = random.randn(10)\n",
        "\n",
        "print(data)\n",
        "print(\"最小値\",data.min())\n",
        "print(\"最大値\",data.max())\n",
        "print(\"合計\",data.sum())\n"
      ]
    }
  ]
}