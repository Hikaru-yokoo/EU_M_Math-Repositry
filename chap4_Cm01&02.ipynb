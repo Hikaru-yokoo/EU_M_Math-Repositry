{
  "nbformat": 4,
  "nbformat_minor": 0,
  "metadata": {
    "colab": {
      "name": "chap4_Cm01&02.ipynb",
      "provenance": [],
      "authorship_tag": "ABX9TyO2wNsJ5TnWl7yYLuh2sCl8",
      "include_colab_link": true
    },
    "kernelspec": {
      "name": "python3",
      "display_name": "Python 3"
    },
    "language_info": {
      "name": "python"
    },
    "accelerator": "GPU"
  },
  "cells": [
    {
      "cell_type": "markdown",
      "metadata": {
        "id": "view-in-github",
        "colab_type": "text"
      },
      "source": [
        "<a href=\"https://colab.research.google.com/github/Hikaru-yokoo/EU_M_Math-Repositry/blob/main/chap4_Cm01%2602.ipynb\" target=\"_parent\"><img src=\"https://colab.research.google.com/assets/colab-badge.svg\" alt=\"Open In Colab\"/></a>"
      ]
    },
    {
      "cell_type": "code",
      "execution_count": 1,
      "metadata": {
        "colab": {
          "base_uri": "https://localhost:8080/"
        },
        "id": "R01QlVqKEENb",
        "outputId": "e18b79fe-a7e7-4fc3-e319-50ac2e2be077"
      },
      "outputs": [
        {
          "output_type": "stream",
          "name": "stdout",
          "text": [
            "数学ー欠席数： 5.319371727748691\n",
            "ポルトガル語ー欠席数： 3.6727748691099475\n",
            "p値 =  2.3441656888384195e-06\n",
            "数学ー勉強時間： 2.0340314136125652\n",
            "ポルトガル語ー勉強時間： 2.0392670157068062\n",
            "p値 =  0.5643842756976525\n"
          ]
        }
      ],
      "source": [
        "import pandas as pd\n",
        "import requests, zipfile\n",
        "from io import StringIO\n",
        "import io\n",
        "import numpy as np\n",
        "import pandas as pd\n",
        "\n",
        "url = \"https://archive.ics.uci.edu/ml/machine-learning-databases/00356/student.zip\"\n",
        "\n",
        "r = requests.get(url, stream=True)\n",
        "\n",
        "z = zipfile.ZipFile(io.BytesIO(r.content))\n",
        "z.extractall()\n",
        "\n",
        "student_data_math = pd.read_csv(\"student-mat.csv\",sep=\";\")\n",
        "student_data_por = pd.read_csv(\"student-por.csv\",sep=\";\")\n",
        "\n",
        "student_data_merge = pd.merge(student_data_math\n",
        "                      ,student_data_por\n",
        "                      ,on = [\"school\",\"sex\", \"age\", \"address\", \"famsize\", \"Pstatus\"\n",
        "                      , \"Medu\", \"Fedu\",\"Mjob\", \"Fjob\", \"reason\", \"nursery\", \"internet\"]\n",
        "                      ,suffixes = (\"_math\", \"_por\"))\n",
        "\n",
        "print(\"数学ー欠席数：\",student_data_merge.absences_math.mean())\n",
        "print(\"ポルトガル語ー欠席数：\",student_data_merge.absences_por.mean())\n",
        "\n",
        "from scipy import stats\n",
        "t, p = stats.ttest_rel(student_data_merge.absences_math,student_data_merge.absences_por)\n",
        "print(\"p値 = \",p)\n",
        "\n",
        "print(\"数学ー勉強時間：\",student_data_merge.studytime_math.mean())\n",
        "print(\"ポルトガル語ー勉強時間：\",student_data_merge.studytime_por.mean())\n",
        "\n",
        "from scipy import stats\n",
        "t, p = stats.ttest_rel(student_data_merge.studytime_math,student_data_merge.studytime_por)\n",
        "print(\"p値 = \",p)\n"
      ]
    },
    {
      "cell_type": "markdown",
      "source": [
        "欠席数：P値が1％未満なので差があるといえる。\n",
        "\n",
        "勉強時間：P値が1％未満でないので差があるとはいえない。"
      ],
      "metadata": {
        "id": "pLUcyuU1XYhu"
      }
    },
    {
      "cell_type": "code",
      "source": [
        ""
      ],
      "metadata": {
        "id": "ocEx2dzFXxGY"
      },
      "execution_count": null,
      "outputs": []
    }
  ]
}