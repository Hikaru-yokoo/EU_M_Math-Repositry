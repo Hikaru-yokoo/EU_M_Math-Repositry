{
  "nbformat": 4,
  "nbformat_minor": 0,
  "metadata": {
    "colab": {
      "name": "chap2_Ex08.ipynb",
      "provenance": [],
      "authorship_tag": "ABX9TyO/sYe+4LnBiO17R7oIMPaX",
      "include_colab_link": true
    },
    "kernelspec": {
      "name": "python3",
      "display_name": "Python 3"
    },
    "language_info": {
      "name": "python"
    }
  },
  "cells": [
    {
      "cell_type": "markdown",
      "metadata": {
        "id": "view-in-github",
        "colab_type": "text"
      },
      "source": [
        "<a href=\"https://colab.research.google.com/github/Hikaru-yokoo/EU_M_Math-Repositry/blob/main/chap2_Ex08.ipynb\" target=\"_parent\"><img src=\"https://colab.research.google.com/assets/colab-badge.svg\" alt=\"Open In Colab\"/></a>"
      ]
    },
    {
      "cell_type": "code",
      "execution_count": 2,
      "metadata": {
        "colab": {
          "base_uri": "https://localhost:8080/"
        },
        "id": "RnCTj6Q8i3MT",
        "outputId": "8fdc26c8-508a-4373-959b-5476f4e508eb"
      },
      "outputs": [
        {
          "output_type": "execute_result",
          "data": {
            "text/plain": [
              "Sex\n",
              "F    1233.333333\n",
              "M     400.000000\n",
              "Name: Money, dtype: float64"
            ]
          },
          "metadata": {},
          "execution_count": 2
        }
      ],
      "source": [
        "#男女別の平均Moneyを求める\n",
        "\n",
        "from pandas import Series, DataFrame\n",
        "import pandas as pd\n",
        "\n",
        "\n",
        "attri_data1 = {\"ID\":[\"1\",\"2\",\"3\",\"4\",\"5\"],\n",
        "               \"Sex\":[\"F\",\"F\",\"M\",\"M\",\"F\"],\n",
        "               \"Money\":[1000,2000,500,300,700],\n",
        "               \"Name\":[\"Saito\",\"Horie\",\"Kondo\",\"Kawada\",\"Matsubara\"]}\n",
        "attri_data_frame1 = DataFrame(attri_data1)\n",
        "attri_data_frame1.groupby(\"Sex\")[\"Money\"].mean()"
      ]
    }
  ]
}