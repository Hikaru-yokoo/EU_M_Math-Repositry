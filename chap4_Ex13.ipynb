{
  "nbformat": 4,
  "nbformat_minor": 0,
  "metadata": {
    "colab": {
      "name": "chap4_Ex13.ipynb",
      "provenance": [],
      "authorship_tag": "ABX9TyMPt4XT1q0QZKc22UTHMF+U",
      "include_colab_link": true
    },
    "kernelspec": {
      "name": "python3",
      "display_name": "Python 3"
    },
    "language_info": {
      "name": "python"
    }
  },
  "cells": [
    {
      "cell_type": "markdown",
      "metadata": {
        "id": "view-in-github",
        "colab_type": "text"
      },
      "source": [
        "<a href=\"https://colab.research.google.com/github/Hikaru-yokoo/EU_M_Math-Repositry/blob/main/chap4_Ex13.ipynb\" target=\"_parent\"><img src=\"https://colab.research.google.com/assets/colab-badge.svg\" alt=\"Open In Colab\"/></a>"
      ]
    },
    {
      "cell_type": "code",
      "execution_count": 4,
      "metadata": {
        "colab": {
          "base_uri": "https://localhost:8080/"
        },
        "id": "ozZOwlgMXfO8",
        "outputId": "55eefe69-6fb3-49db-88ad-cec38585f699"
      },
      "outputs": [
        {
          "output_type": "stream",
          "name": "stdout",
          "text": [
            "G2数学の成績平均： 10.712041884816754\n",
            "G2ポルトガル語の成績平均： 12.238219895287958\n",
            "p値 =  4.0622824801348043e-19\n",
            "G3数学の成績平均： 10.387434554973822\n",
            "G3ポルトガル語の成績平均： 12.515706806282722\n",
            "p値 =  5.561492113688385e-21\n"
          ]
        }
      ],
      "source": [
        "import pandas as pd\n",
        "import requests, zipfile\n",
        "from io import StringIO\n",
        "import io\n",
        "import numpy as np\n",
        "import pandas as pd\n",
        "\n",
        "url = \"https://archive.ics.uci.edu/ml/machine-learning-databases/00356/student.zip\"\n",
        "\n",
        "r = requests.get(url, stream=True)\n",
        "\n",
        "z = zipfile.ZipFile(io.BytesIO(r.content))\n",
        "z.extractall()\n",
        "\n",
        "student_data_math = pd.read_csv(\"student-mat.csv\",sep=\";\")\n",
        "student_data_por = pd.read_csv(\"student-por.csv\",sep=\";\")\n",
        "\n",
        "student_data_merge = pd.merge(student_data_math\n",
        "                      ,student_data_por\n",
        "                      ,on = [\"school\",\"sex\", \"age\", \"address\", \"famsize\", \"Pstatus\"\n",
        "                      , \"Medu\", \"Fedu\",\"Mjob\", \"Fjob\", \"reason\", \"nursery\", \"internet\"]\n",
        "                      ,suffixes = (\"_math\", \"_por\"))\n",
        "\n",
        "print(\"G2数学の成績平均：\",student_data_merge.G2_math.mean())\n",
        "print(\"G2ポルトガル語の成績平均：\",student_data_merge.G2_por.mean())\n",
        "\n",
        "from scipy import stats\n",
        "t, p = stats.ttest_rel(student_data_merge.G2_math,student_data_merge.G2_por)\n",
        "print(\"p値 = \",p)\n",
        "\n",
        "\n",
        "print(\"G3数学の成績平均：\",student_data_merge.G3_math.mean())\n",
        "print(\"G3ポルトガル語の成績平均：\",student_data_merge.G3_por.mean())\n",
        "\n",
        "from scipy import stats\n",
        "t, p = stats.ttest_rel(student_data_merge.G3_math,student_data_merge.G3_por)\n",
        "print(\"p値 = \",p)\n"
      ]
    },
    {
      "cell_type": "markdown",
      "source": [
        "G2、G3ともに１％未満なので差があるといえる。\n"
      ],
      "metadata": {
        "id": "IFT7QhjKZBMQ"
      }
    }
  ]
}